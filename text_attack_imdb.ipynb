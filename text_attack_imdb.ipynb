{
  "nbformat": 4,
  "nbformat_minor": 0,
  "metadata": {
    "colab": {
      "provenance": [],
      "authorship_tag": "ABX9TyOPaRkvVBFxIyskbiX8ytWd"
    },
    "kernelspec": {
      "name": "python3",
      "display_name": "Python 3"
    },
    "language_info": {
      "name": "python"
    },
    "accelerator": "GPU",
    "gpuClass": "standard"
  },
  "cells": [
    {
      "cell_type": "code",
      "execution_count": 1,
      "metadata": {
        "id": "HGtrrbxnnUG0"
      },
      "outputs": [],
      "source": [
        "import pandas as pd\n",
        "import matplotlib.pyplot as plt\n",
        "import seaborn as sns"
      ]
    },
    {
      "cell_type": "code",
      "source": [
        "!pip install textattack[tensorflow]"
      ],
      "metadata": {
        "colab": {
          "base_uri": "https://localhost:8080/"
        },
        "id": "NP-c-DzOnhke",
        "outputId": "d9f6e3e3-6cea-4449-8f8c-2aea81d829d4"
      },
      "execution_count": 2,
      "outputs": [
        {
          "output_type": "stream",
          "name": "stdout",
          "text": [
            "Looking in indexes: https://pypi.org/simple, https://us-python.pkg.dev/colab-wheels/public/simple/\n",
            "Requirement already satisfied: textattack[tensorflow] in /usr/local/lib/python3.9/dist-packages (0.3.8)\n",
            "Requirement already satisfied: click<8.1.0 in /usr/local/lib/python3.9/dist-packages (from textattack[tensorflow]) (8.0.4)\n",
            "Requirement already satisfied: tqdm in /usr/local/lib/python3.9/dist-packages (from textattack[tensorflow]) (4.65.0)\n",
            "Requirement already satisfied: word2number in /usr/local/lib/python3.9/dist-packages (from textattack[tensorflow]) (1.1)\n",
            "Requirement already satisfied: torch!=1.8,>=1.7.0 in /usr/local/lib/python3.9/dist-packages (from textattack[tensorflow]) (1.13.1+cu116)\n",
            "Requirement already satisfied: more-itertools in /usr/local/lib/python3.9/dist-packages (from textattack[tensorflow]) (9.1.0)\n",
            "Requirement already satisfied: OpenHowNet in /usr/local/lib/python3.9/dist-packages (from textattack[tensorflow]) (2.0)\n",
            "Requirement already satisfied: bert-score>=0.3.5 in /usr/local/lib/python3.9/dist-packages (from textattack[tensorflow]) (0.3.13)\n",
            "Requirement already satisfied: pandas>=1.0.1 in /usr/local/lib/python3.9/dist-packages (from textattack[tensorflow]) (1.4.4)\n",
            "Requirement already satisfied: pycld2 in /usr/local/lib/python3.9/dist-packages (from textattack[tensorflow]) (0.41)\n",
            "Requirement already satisfied: transformers>=4.21.0 in /usr/local/lib/python3.9/dist-packages (from textattack[tensorflow]) (4.26.1)\n",
            "Requirement already satisfied: nltk in /usr/local/lib/python3.9/dist-packages (from textattack[tensorflow]) (3.7)\n",
            "Requirement already satisfied: editdistance in /usr/local/lib/python3.9/dist-packages (from textattack[tensorflow]) (0.5.3)\n",
            "Requirement already satisfied: datasets==2.4.0 in /usr/local/lib/python3.9/dist-packages (from textattack[tensorflow]) (2.4.0)\n",
            "Requirement already satisfied: lru-dict in /usr/local/lib/python3.9/dist-packages (from textattack[tensorflow]) (1.1.8)\n",
            "Requirement already satisfied: lemminflect in /usr/local/lib/python3.9/dist-packages (from textattack[tensorflow]) (0.2.3)\n",
            "Requirement already satisfied: numpy>=1.21.0 in /usr/local/lib/python3.9/dist-packages (from textattack[tensorflow]) (1.22.4)\n",
            "Requirement already satisfied: jieba in /usr/local/lib/python3.9/dist-packages (from textattack[tensorflow]) (0.42.1)\n",
            "Requirement already satisfied: pinyin==0.4.0 in /usr/local/lib/python3.9/dist-packages (from textattack[tensorflow]) (0.4.0)\n",
            "Requirement already satisfied: scipy>=1.4.1 in /usr/local/lib/python3.9/dist-packages (from textattack[tensorflow]) (1.10.1)\n",
            "Requirement already satisfied: PySocks!=1.5.7,>=1.5.6 in /usr/local/lib/python3.9/dist-packages (from textattack[tensorflow]) (1.7.1)\n",
            "Requirement already satisfied: flair in /usr/local/lib/python3.9/dist-packages (from textattack[tensorflow]) (0.11.3)\n",
            "Requirement already satisfied: filelock in /usr/local/lib/python3.9/dist-packages (from textattack[tensorflow]) (3.9.0)\n",
            "Requirement already satisfied: num2words in /usr/local/lib/python3.9/dist-packages (from textattack[tensorflow]) (0.5.12)\n",
            "Requirement already satisfied: language-tool-python in /usr/local/lib/python3.9/dist-packages (from textattack[tensorflow]) (2.7.1)\n",
            "Requirement already satisfied: terminaltables in /usr/local/lib/python3.9/dist-packages (from textattack[tensorflow]) (3.1.10)\n",
            "Requirement already satisfied: tensorflow-hub in /usr/local/lib/python3.9/dist-packages (from textattack[tensorflow]) (0.12.0)\n",
            "Requirement already satisfied: tensorflow-estimator==2.9.0 in /usr/local/lib/python3.9/dist-packages (from textattack[tensorflow]) (2.9.0)\n",
            "Requirement already satisfied: tensorflow==2.9.1 in /usr/local/lib/python3.9/dist-packages (from textattack[tensorflow]) (2.9.1)\n",
            "Requirement already satisfied: tensorboardX in /usr/local/lib/python3.9/dist-packages (from textattack[tensorflow]) (2.6)\n",
            "Requirement already satisfied: tensorflow-text>=2 in /usr/local/lib/python3.9/dist-packages (from textattack[tensorflow]) (2.9.0)\n",
            "Requirement already satisfied: huggingface-hub<1.0.0,>=0.1.0 in /usr/local/lib/python3.9/dist-packages (from datasets==2.4.0->textattack[tensorflow]) (0.13.2)\n",
            "Requirement already satisfied: multiprocess in /usr/local/lib/python3.9/dist-packages (from datasets==2.4.0->textattack[tensorflow]) (0.70.13)\n",
            "Requirement already satisfied: aiohttp in /usr/local/lib/python3.9/dist-packages (from datasets==2.4.0->textattack[tensorflow]) (3.8.4)\n",
            "Requirement already satisfied: dill<0.3.6 in /usr/local/lib/python3.9/dist-packages (from datasets==2.4.0->textattack[tensorflow]) (0.3.5.1)\n",
            "Requirement already satisfied: pyarrow>=6.0.0 in /usr/local/lib/python3.9/dist-packages (from datasets==2.4.0->textattack[tensorflow]) (9.0.0)\n",
            "Requirement already satisfied: packaging in /usr/local/lib/python3.9/dist-packages (from datasets==2.4.0->textattack[tensorflow]) (23.0)\n",
            "Requirement already satisfied: fsspec[http]>=2021.11.1 in /usr/local/lib/python3.9/dist-packages (from datasets==2.4.0->textattack[tensorflow]) (2023.3.0)\n",
            "Requirement already satisfied: xxhash in /usr/local/lib/python3.9/dist-packages (from datasets==2.4.0->textattack[tensorflow]) (3.2.0)\n",
            "Requirement already satisfied: responses<0.19 in /usr/local/lib/python3.9/dist-packages (from datasets==2.4.0->textattack[tensorflow]) (0.18.0)\n",
            "Requirement already satisfied: requests>=2.19.0 in /usr/local/lib/python3.9/dist-packages (from datasets==2.4.0->textattack[tensorflow]) (2.25.1)\n",
            "Requirement already satisfied: typing-extensions>=3.6.6 in /usr/local/lib/python3.9/dist-packages (from tensorflow==2.9.1->textattack[tensorflow]) (4.5.0)\n",
            "Requirement already satisfied: opt-einsum>=2.3.2 in /usr/local/lib/python3.9/dist-packages (from tensorflow==2.9.1->textattack[tensorflow]) (3.3.0)\n",
            "Requirement already satisfied: google-pasta>=0.1.1 in /usr/local/lib/python3.9/dist-packages (from tensorflow==2.9.1->textattack[tensorflow]) (0.2.0)\n",
            "Requirement already satisfied: protobuf<3.20,>=3.9.2 in /usr/local/lib/python3.9/dist-packages (from tensorflow==2.9.1->textattack[tensorflow]) (3.19.6)\n",
            "Requirement already satisfied: six>=1.12.0 in /usr/local/lib/python3.9/dist-packages (from tensorflow==2.9.1->textattack[tensorflow]) (1.15.0)\n",
            "Requirement already satisfied: grpcio<2.0,>=1.24.3 in /usr/local/lib/python3.9/dist-packages (from tensorflow==2.9.1->textattack[tensorflow]) (1.51.3)\n",
            "Requirement already satisfied: gast<=0.4.0,>=0.2.1 in /usr/local/lib/python3.9/dist-packages (from tensorflow==2.9.1->textattack[tensorflow]) (0.4.0)\n",
            "Requirement already satisfied: astunparse>=1.6.0 in /usr/local/lib/python3.9/dist-packages (from tensorflow==2.9.1->textattack[tensorflow]) (1.6.3)\n",
            "Requirement already satisfied: setuptools in /usr/local/lib/python3.9/dist-packages (from tensorflow==2.9.1->textattack[tensorflow]) (57.4.0)\n",
            "Requirement already satisfied: tensorflow-io-gcs-filesystem>=0.23.1 in /usr/local/lib/python3.9/dist-packages (from tensorflow==2.9.1->textattack[tensorflow]) (0.31.0)\n",
            "Requirement already satisfied: tensorboard<2.10,>=2.9 in /usr/local/lib/python3.9/dist-packages (from tensorflow==2.9.1->textattack[tensorflow]) (2.9.1)\n",
            "Requirement already satisfied: wrapt>=1.11.0 in /usr/local/lib/python3.9/dist-packages (from tensorflow==2.9.1->textattack[tensorflow]) (1.15.0)\n",
            "Requirement already satisfied: termcolor>=1.1.0 in /usr/local/lib/python3.9/dist-packages (from tensorflow==2.9.1->textattack[tensorflow]) (2.2.0)\n",
            "Requirement already satisfied: h5py>=2.9.0 in /usr/local/lib/python3.9/dist-packages (from tensorflow==2.9.1->textattack[tensorflow]) (3.1.0)\n",
            "Requirement already satisfied: keras<2.10.0,>=2.9.0rc0 in /usr/local/lib/python3.9/dist-packages (from tensorflow==2.9.1->textattack[tensorflow]) (2.9.0)\n",
            "Requirement already satisfied: keras-preprocessing>=1.1.1 in /usr/local/lib/python3.9/dist-packages (from tensorflow==2.9.1->textattack[tensorflow]) (1.1.2)\n",
            "Requirement already satisfied: absl-py>=1.0.0 in /usr/local/lib/python3.9/dist-packages (from tensorflow==2.9.1->textattack[tensorflow]) (1.4.0)\n",
            "Requirement already satisfied: flatbuffers<2,>=1.12 in /usr/local/lib/python3.9/dist-packages (from tensorflow==2.9.1->textattack[tensorflow]) (1.12)\n",
            "Requirement already satisfied: libclang>=13.0.0 in /usr/local/lib/python3.9/dist-packages (from tensorflow==2.9.1->textattack[tensorflow]) (15.0.6.1)\n",
            "Requirement already satisfied: matplotlib in /usr/local/lib/python3.9/dist-packages (from bert-score>=0.3.5->textattack[tensorflow]) (3.5.3)\n",
            "Requirement already satisfied: pytz>=2020.1 in /usr/local/lib/python3.9/dist-packages (from pandas>=1.0.1->textattack[tensorflow]) (2022.7.1)\n",
            "Requirement already satisfied: python-dateutil>=2.8.1 in /usr/local/lib/python3.9/dist-packages (from pandas>=1.0.1->textattack[tensorflow]) (2.8.2)\n",
            "Requirement already satisfied: tokenizers!=0.11.3,<0.14,>=0.11.1 in /usr/local/lib/python3.9/dist-packages (from transformers>=4.21.0->textattack[tensorflow]) (0.13.2)\n",
            "Requirement already satisfied: pyyaml>=5.1 in /usr/local/lib/python3.9/dist-packages (from transformers>=4.21.0->textattack[tensorflow]) (6.0)\n",
            "Requirement already satisfied: regex!=2019.12.17 in /usr/local/lib/python3.9/dist-packages (from transformers>=4.21.0->textattack[tensorflow]) (2022.6.2)\n",
            "Requirement already satisfied: konoha<5.0.0,>=4.0.0 in /usr/local/lib/python3.9/dist-packages (from flair->textattack[tensorflow]) (4.6.5)\n",
            "Requirement already satisfied: lxml in /usr/local/lib/python3.9/dist-packages (from flair->textattack[tensorflow]) (4.9.2)\n",
            "Requirement already satisfied: langdetect in /usr/local/lib/python3.9/dist-packages (from flair->textattack[tensorflow]) (1.0.9)\n",
            "Requirement already satisfied: conllu>=4.0 in /usr/local/lib/python3.9/dist-packages (from flair->textattack[tensorflow]) (4.5.2)\n",
            "Requirement already satisfied: wikipedia-api in /usr/local/lib/python3.9/dist-packages (from flair->textattack[tensorflow]) (0.5.8)\n",
            "Requirement already satisfied: scikit-learn>=0.21.3 in /usr/local/lib/python3.9/dist-packages (from flair->textattack[tensorflow]) (1.2.2)\n",
            "Requirement already satisfied: deprecated>=1.2.4 in /usr/local/lib/python3.9/dist-packages (from flair->textattack[tensorflow]) (1.2.13)\n",
            "Requirement already satisfied: gdown==4.4.0 in /usr/local/lib/python3.9/dist-packages (from flair->textattack[tensorflow]) (4.4.0)\n",
            "Requirement already satisfied: mpld3==0.3 in /usr/local/lib/python3.9/dist-packages (from flair->textattack[tensorflow]) (0.3)\n",
            "Requirement already satisfied: ftfy in /usr/local/lib/python3.9/dist-packages (from flair->textattack[tensorflow]) (6.1.1)\n",
            "Requirement already satisfied: janome in /usr/local/lib/python3.9/dist-packages (from flair->textattack[tensorflow]) (0.4.2)\n",
            "Requirement already satisfied: hyperopt>=0.2.7 in /usr/local/lib/python3.9/dist-packages (from flair->textattack[tensorflow]) (0.2.7)\n",
            "Requirement already satisfied: sentencepiece==0.1.95 in /usr/local/lib/python3.9/dist-packages (from flair->textattack[tensorflow]) (0.1.95)\n",
            "Requirement already satisfied: pptree in /usr/local/lib/python3.9/dist-packages (from flair->textattack[tensorflow]) (3.1)\n",
            "Requirement already satisfied: segtok>=1.5.7 in /usr/local/lib/python3.9/dist-packages (from flair->textattack[tensorflow]) (1.5.11)\n",
            "Requirement already satisfied: bpemb>=0.3.2 in /usr/local/lib/python3.9/dist-packages (from flair->textattack[tensorflow]) (0.3.4)\n",
            "Requirement already satisfied: tabulate in /usr/local/lib/python3.9/dist-packages (from flair->textattack[tensorflow]) (0.8.10)\n",
            "Requirement already satisfied: gensim>=3.4.0 in /usr/local/lib/python3.9/dist-packages (from flair->textattack[tensorflow]) (3.6.0)\n",
            "Requirement already satisfied: sqlitedict>=1.6.0 in /usr/local/lib/python3.9/dist-packages (from flair->textattack[tensorflow]) (2.1.0)\n",
            "Requirement already satisfied: beautifulsoup4 in /usr/local/lib/python3.9/dist-packages (from gdown==4.4.0->flair->textattack[tensorflow]) (4.9.3)\n",
            "Requirement already satisfied: joblib in /usr/local/lib/python3.9/dist-packages (from nltk->textattack[tensorflow]) (1.1.1)\n",
            "Requirement already satisfied: docopt>=0.6.2 in /usr/local/lib/python3.9/dist-packages (from num2words->textattack[tensorflow]) (0.6.2)\n",
            "Requirement already satisfied: anytree in /usr/local/lib/python3.9/dist-packages (from OpenHowNet->textattack[tensorflow]) (2.8.0)\n",
            "Requirement already satisfied: wheel<1.0,>=0.23.0 in /usr/local/lib/python3.9/dist-packages (from astunparse>=1.6.0->tensorflow==2.9.1->textattack[tensorflow]) (0.38.4)\n",
            "Requirement already satisfied: yarl<2.0,>=1.0 in /usr/local/lib/python3.9/dist-packages (from aiohttp->datasets==2.4.0->textattack[tensorflow]) (1.8.2)\n",
            "Requirement already satisfied: frozenlist>=1.1.1 in /usr/local/lib/python3.9/dist-packages (from aiohttp->datasets==2.4.0->textattack[tensorflow]) (1.3.3)\n",
            "Requirement already satisfied: async-timeout<5.0,>=4.0.0a3 in /usr/local/lib/python3.9/dist-packages (from aiohttp->datasets==2.4.0->textattack[tensorflow]) (4.0.2)\n",
            "Requirement already satisfied: charset-normalizer<4.0,>=2.0 in /usr/local/lib/python3.9/dist-packages (from aiohttp->datasets==2.4.0->textattack[tensorflow]) (3.1.0)\n",
            "Requirement already satisfied: aiosignal>=1.1.2 in /usr/local/lib/python3.9/dist-packages (from aiohttp->datasets==2.4.0->textattack[tensorflow]) (1.3.1)\n",
            "Requirement already satisfied: attrs>=17.3.0 in /usr/local/lib/python3.9/dist-packages (from aiohttp->datasets==2.4.0->textattack[tensorflow]) (22.2.0)\n",
            "Requirement already satisfied: multidict<7.0,>=4.5 in /usr/local/lib/python3.9/dist-packages (from aiohttp->datasets==2.4.0->textattack[tensorflow]) (6.0.4)\n",
            "Requirement already satisfied: smart-open>=1.2.1 in /usr/local/lib/python3.9/dist-packages (from gensim>=3.4.0->flair->textattack[tensorflow]) (6.3.0)\n",
            "Requirement already satisfied: py4j in /usr/local/lib/python3.9/dist-packages (from hyperopt>=0.2.7->flair->textattack[tensorflow]) (0.10.9.7)\n",
            "Requirement already satisfied: networkx>=2.2 in /usr/local/lib/python3.9/dist-packages (from hyperopt>=0.2.7->flair->textattack[tensorflow]) (3.0)\n",
            "Requirement already satisfied: future in /usr/local/lib/python3.9/dist-packages (from hyperopt>=0.2.7->flair->textattack[tensorflow]) (0.16.0)\n",
            "Requirement already satisfied: cloudpickle in /usr/local/lib/python3.9/dist-packages (from hyperopt>=0.2.7->flair->textattack[tensorflow]) (2.2.1)\n",
            "Requirement already satisfied: importlib-metadata<4.0.0,>=3.7.0 in /usr/local/lib/python3.9/dist-packages (from konoha<5.0.0,>=4.0.0->flair->textattack[tensorflow]) (3.10.1)\n",
            "Requirement already satisfied: overrides<4.0.0,>=3.0.0 in /usr/local/lib/python3.9/dist-packages (from konoha<5.0.0,>=4.0.0->flair->textattack[tensorflow]) (3.1.0)\n",
            "Requirement already satisfied: cycler>=0.10 in /usr/local/lib/python3.9/dist-packages (from matplotlib->bert-score>=0.3.5->textattack[tensorflow]) (0.11.0)\n",
            "Requirement already satisfied: fonttools>=4.22.0 in /usr/local/lib/python3.9/dist-packages (from matplotlib->bert-score>=0.3.5->textattack[tensorflow]) (4.39.0)\n",
            "Requirement already satisfied: pillow>=6.2.0 in /usr/local/lib/python3.9/dist-packages (from matplotlib->bert-score>=0.3.5->textattack[tensorflow]) (8.4.0)\n",
            "Requirement already satisfied: kiwisolver>=1.0.1 in /usr/local/lib/python3.9/dist-packages (from matplotlib->bert-score>=0.3.5->textattack[tensorflow]) (1.4.4)\n",
            "Requirement already satisfied: pyparsing>=2.2.1 in /usr/local/lib/python3.9/dist-packages (from matplotlib->bert-score>=0.3.5->textattack[tensorflow]) (3.0.9)\n",
            "Requirement already satisfied: urllib3<1.27,>=1.21.1 in /usr/local/lib/python3.9/dist-packages (from requests>=2.19.0->datasets==2.4.0->textattack[tensorflow]) (1.26.14)\n",
            "Requirement already satisfied: certifi>=2017.4.17 in /usr/local/lib/python3.9/dist-packages (from requests>=2.19.0->datasets==2.4.0->textattack[tensorflow]) (2022.12.7)\n",
            "Requirement already satisfied: idna<3,>=2.5 in /usr/local/lib/python3.9/dist-packages (from requests>=2.19.0->datasets==2.4.0->textattack[tensorflow]) (2.10)\n",
            "Requirement already satisfied: chardet<5,>=3.0.2 in /usr/local/lib/python3.9/dist-packages (from requests>=2.19.0->datasets==2.4.0->textattack[tensorflow]) (4.0.0)\n",
            "Requirement already satisfied: threadpoolctl>=2.0.0 in /usr/local/lib/python3.9/dist-packages (from scikit-learn>=0.21.3->flair->textattack[tensorflow]) (3.1.0)\n",
            "Requirement already satisfied: tensorboard-data-server<0.7.0,>=0.6.0 in /usr/local/lib/python3.9/dist-packages (from tensorboard<2.10,>=2.9->tensorflow==2.9.1->textattack[tensorflow]) (0.6.1)\n",
            "Requirement already satisfied: tensorboard-plugin-wit>=1.6.0 in /usr/local/lib/python3.9/dist-packages (from tensorboard<2.10,>=2.9->tensorflow==2.9.1->textattack[tensorflow]) (1.8.1)\n",
            "Requirement already satisfied: google-auth-oauthlib<0.5,>=0.4.1 in /usr/local/lib/python3.9/dist-packages (from tensorboard<2.10,>=2.9->tensorflow==2.9.1->textattack[tensorflow]) (0.4.6)\n",
            "Requirement already satisfied: google-auth<3,>=1.6.3 in /usr/local/lib/python3.9/dist-packages (from tensorboard<2.10,>=2.9->tensorflow==2.9.1->textattack[tensorflow]) (2.16.2)\n",
            "Requirement already satisfied: markdown>=2.6.8 in /usr/local/lib/python3.9/dist-packages (from tensorboard<2.10,>=2.9->tensorflow==2.9.1->textattack[tensorflow]) (3.3.4)\n",
            "Requirement already satisfied: werkzeug>=1.0.1 in /usr/local/lib/python3.9/dist-packages (from tensorboard<2.10,>=2.9->tensorflow==2.9.1->textattack[tensorflow]) (2.2.3)\n",
            "Requirement already satisfied: wcwidth>=0.2.5 in /usr/local/lib/python3.9/dist-packages (from ftfy->flair->textattack[tensorflow]) (0.2.6)\n",
            "Requirement already satisfied: pyasn1-modules>=0.2.1 in /usr/local/lib/python3.9/dist-packages (from google-auth<3,>=1.6.3->tensorboard<2.10,>=2.9->tensorflow==2.9.1->textattack[tensorflow]) (0.2.8)\n",
            "Requirement already satisfied: cachetools<6.0,>=2.0.0 in /usr/local/lib/python3.9/dist-packages (from google-auth<3,>=1.6.3->tensorboard<2.10,>=2.9->tensorflow==2.9.1->textattack[tensorflow]) (5.3.0)\n",
            "Requirement already satisfied: rsa<5,>=3.1.4 in /usr/local/lib/python3.9/dist-packages (from google-auth<3,>=1.6.3->tensorboard<2.10,>=2.9->tensorflow==2.9.1->textattack[tensorflow]) (4.9)\n",
            "Requirement already satisfied: requests-oauthlib>=0.7.0 in /usr/local/lib/python3.9/dist-packages (from google-auth-oauthlib<0.5,>=0.4.1->tensorboard<2.10,>=2.9->tensorflow==2.9.1->textattack[tensorflow]) (1.3.1)\n",
            "Requirement already satisfied: zipp>=0.5 in /usr/local/lib/python3.9/dist-packages (from importlib-metadata<4.0.0,>=3.7.0->konoha<5.0.0,>=4.0.0->flair->textattack[tensorflow]) (3.15.0)\n",
            "Requirement already satisfied: MarkupSafe>=2.1.1 in /usr/local/lib/python3.9/dist-packages (from werkzeug>=1.0.1->tensorboard<2.10,>=2.9->tensorflow==2.9.1->textattack[tensorflow]) (2.1.2)\n",
            "Requirement already satisfied: soupsieve>1.2 in /usr/local/lib/python3.9/dist-packages (from beautifulsoup4->gdown==4.4.0->flair->textattack[tensorflow]) (2.4)\n",
            "Requirement already satisfied: pyasn1<0.5.0,>=0.4.6 in /usr/local/lib/python3.9/dist-packages (from pyasn1-modules>=0.2.1->google-auth<3,>=1.6.3->tensorboard<2.10,>=2.9->tensorflow==2.9.1->textattack[tensorflow]) (0.4.8)\n",
            "Requirement already satisfied: oauthlib>=3.0.0 in /usr/local/lib/python3.9/dist-packages (from requests-oauthlib>=0.7.0->google-auth-oauthlib<0.5,>=0.4.1->tensorboard<2.10,>=2.9->tensorflow==2.9.1->textattack[tensorflow]) (3.2.2)\n"
          ]
        }
      ]
    },
    {
      "cell_type": "code",
      "source": [
        "import numpy as np\n",
        "\n",
        "import tensorflow as tf\n",
        "import tensorflow_hub as hub\n",
        "import tensorflow_datasets as tfds\n",
        "\n",
        "print(\"Version: \", tf.__version__)\n",
        "print(\"Eager mode: \", tf.executing_eagerly())\n",
        "print(\"Hub version: \", hub.__version__)\n",
        "print(\"GPU is\", \"available\" if tf.config.list_physical_devices('GPU') else \"NOT AVAILABLE\")"
      ],
      "metadata": {
        "colab": {
          "base_uri": "https://localhost:8080/"
        },
        "id": "49GbwD3gqhY6",
        "outputId": "c0582836-e7c6-4fdc-b190-00428b7e5795"
      },
      "execution_count": 3,
      "outputs": [
        {
          "output_type": "stream",
          "name": "stdout",
          "text": [
            "Version:  2.9.1\n",
            "Eager mode:  True\n",
            "Hub version:  0.12.0\n",
            "GPU is available\n"
          ]
        }
      ]
    },
    {
      "cell_type": "code",
      "source": [
        "!textattack train --model textattack/distilbert-base-uncased-imdb --dataset imdb --num-epochs 3 --learning-rate 5e-5 --per-device-train-batch-size 32"
      ],
      "metadata": {
        "colab": {
          "base_uri": "https://localhost:8080/"
        },
        "id": "7dL9IYadrgzS",
        "outputId": "d70a858a-2139-4640-a57f-47a69690b68c"
      },
      "execution_count": 5,
      "outputs": [
        {
          "output_type": "stream",
          "name": "stdout",
          "text": [
            "\u001b[34;1mtextattack\u001b[0m: Loading transformers AutoModelForSequenceClassification: textattack/distilbert-base-uncased-imdb\n",
            "Reusing dataset imdb (/root/.cache/huggingface/datasets/imdb/plain_text/1.0.0/2fdd8b9bcadd6e7055e742a706876ba43f19faee861df134affd7a3f60fc38a1)\n",
            "100% 3/3 [00:00<00:00, 895.90it/s]\n",
            "\u001b[34;1mtextattack\u001b[0m: Loading \u001b[94mdatasets\u001b[0m dataset \u001b[94mimdb\u001b[0m, split \u001b[94mtrain\u001b[0m.\n",
            "Reusing dataset imdb (/root/.cache/huggingface/datasets/imdb/plain_text/1.0.0/2fdd8b9bcadd6e7055e742a706876ba43f19faee861df134affd7a3f60fc38a1)\n",
            "100% 3/3 [00:00<00:00, 957.02it/s]\n",
            "Reusing dataset imdb (/root/.cache/huggingface/datasets/imdb/plain_text/1.0.0/2fdd8b9bcadd6e7055e742a706876ba43f19faee861df134affd7a3f60fc38a1)\n",
            "100% 3/3 [00:00<00:00, 921.29it/s]\n",
            "Reusing dataset imdb (/root/.cache/huggingface/datasets/imdb/plain_text/1.0.0/2fdd8b9bcadd6e7055e742a706876ba43f19faee861df134affd7a3f60fc38a1)\n",
            "100% 3/3 [00:00<00:00, 915.32it/s]\n",
            "Reusing dataset imdb (/root/.cache/huggingface/datasets/imdb/plain_text/1.0.0/2fdd8b9bcadd6e7055e742a706876ba43f19faee861df134affd7a3f60fc38a1)\n",
            "100% 3/3 [00:00<00:00, 647.40it/s]\n",
            "\u001b[34;1mtextattack\u001b[0m: Loading \u001b[94mdatasets\u001b[0m dataset \u001b[94mimdb\u001b[0m, split \u001b[94mtest\u001b[0m.\n",
            "\u001b[34;1mtextattack\u001b[0m: Writing logs to ./outputs/2023-03-13-23-46-13-006146/train_log.txt.\n",
            "\u001b[34;1mtextattack\u001b[0m: Wrote original training args to ./outputs/2023-03-13-23-46-13-006146/training_args.json.\n",
            "/usr/local/lib/python3.9/dist-packages/transformers/optimization.py:306: FutureWarning: This implementation of AdamW is deprecated and will be removed in a future version. Use the PyTorch implementation torch.optim.AdamW instead, or set `no_deprecation_warning=True` to disable this warning\n",
            "  warnings.warn(\n",
            "\u001b[34;1mtextattack\u001b[0m: ***** Running training *****\n",
            "\u001b[34;1mtextattack\u001b[0m:   Num examples = 25000\n",
            "\u001b[34;1mtextattack\u001b[0m:   Num epochs = 3\n",
            "\u001b[34;1mtextattack\u001b[0m:   Num clean epochs = 3\n",
            "\u001b[34;1mtextattack\u001b[0m:   Instantaneous batch size per device = 32\n",
            "\u001b[34;1mtextattack\u001b[0m:   Total train batch size (w. parallel, distributed & accumulation) = 32\n",
            "\u001b[34;1mtextattack\u001b[0m:   Gradient accumulation steps = 1\n",
            "\u001b[34;1mtextattack\u001b[0m:   Total optimization steps = 2346\n",
            "\u001b[34;1mtextattack\u001b[0m: ==========================================================\n",
            "\u001b[34;1mtextattack\u001b[0m: Epoch 1\n",
            "\u001b[34;1mtextattack\u001b[0m: Running clean epoch 1/3\n",
            "Loss 0.08464:  43% 333/782 [08:14<11:06,  1.48s/it]\n",
            "Traceback (most recent call last):\n",
            "  File \"/usr/local/bin/textattack\", line 8, in <module>\n",
            "    sys.exit(main())\n",
            "  File \"/usr/local/lib/python3.9/dist-packages/textattack/commands/textattack_cli.py\", line 50, in main\n",
            "    func.run(args)\n",
            "  File \"/usr/local/lib/python3.9/dist-packages/textattack/commands/train_model_command.py\", line 38, in run\n",
            "    trainer.train()\n",
            "  File \"/usr/local/lib/python3.9/dist-packages/textattack/trainer.py\", line 732, in train\n",
            "    loss, preds, targets = self.training_step(model, tokenizer, batch)\n",
            "  File \"/usr/local/lib/python3.9/dist-packages/textattack/trainer.py\", line 546, in training_step\n",
            "    preds = preds.cpu()\n",
            "KeyboardInterrupt\n",
            "^C\n"
          ]
        }
      ]
    }
  ]
}