{
  "nbformat": 4,
  "nbformat_minor": 0,
  "metadata": {
    "colab": {
      "provenance": [],
      "authorship_tag": "ABX9TyNPXG/B1K4R/5FuVAjWaosg"
    },
    "kernelspec": {
      "name": "python3",
      "display_name": "Python 3"
    },
    "language_info": {
      "name": "python"
    }
  },
  "cells": [
    {
      "cell_type": "code",
      "execution_count": 1,
      "metadata": {
        "id": "DfLi-VPnZokG"
      },
      "outputs": [],
      "source": [
        "import pandas as pd\n",
        "import numpy as np\n",
        "import matplotlib.pyplot as plt\n",
        "import sklearn"
      ]
    },
    {
      "cell_type": "code",
      "source": [
        "# Directory for Colab (optional, use if running Colab)\n",
        "from google.colab import drive\n",
        "drive.mount('/content/gdrive/')"
      ],
      "metadata": {
        "colab": {
          "base_uri": "https://localhost:8080/"
        },
        "id": "WTEOouzyblrM",
        "outputId": "a8b35c8e-57c0-4ca8-8c02-332095f75f05"
      },
      "execution_count": 2,
      "outputs": [
        {
          "output_type": "stream",
          "name": "stdout",
          "text": [
            "Drive already mounted at /content/gdrive/; to attempt to forcibly remount, call drive.mount(\"/content/gdrive/\", force_remount=True).\n"
          ]
        }
      ]
    },
    {
      "cell_type": "code",
      "source": [
        "import os\n",
        "os.chdir('/content/gdrive/MyDrive/NLP_project')"
      ],
      "metadata": {
        "id": "oF7VkEnzcbz7"
      },
      "execution_count": 3,
      "outputs": []
    },
    {
      "cell_type": "code",
      "source": [
        "!pwd"
      ],
      "metadata": {
        "colab": {
          "base_uri": "https://localhost:8080/"
        },
        "id": "3Hk26MIOcZX8",
        "outputId": "343603e1-18e2-454d-a116-f28bbcebab99"
      },
      "execution_count": 4,
      "outputs": [
        {
          "output_type": "stream",
          "name": "stdout",
          "text": [
            "/content/gdrive/MyDrive/NLP_project\n"
          ]
        }
      ]
    },
    {
      "cell_type": "code",
      "source": [
        "train_matrix = np.load('embeddings/imdb_train_bert_emb.npy')\n",
        "train_matrix.shape"
      ],
      "metadata": {
        "colab": {
          "base_uri": "https://localhost:8080/"
        },
        "id": "GumkRNeGbd3x",
        "outputId": "524f4566-6387-4a95-a225-10aeeb09fc7a"
      },
      "execution_count": 5,
      "outputs": [
        {
          "output_type": "execute_result",
          "data": {
            "text/plain": [
              "(8000, 768)"
            ]
          },
          "metadata": {},
          "execution_count": 5
        }
      ]
    },
    {
      "cell_type": "code",
      "source": [
        "test_matrix = np.load('embeddings/imdb_bert_test_textfooler_emb.npy')\n",
        "test_matrix.shape"
      ],
      "metadata": {
        "colab": {
          "base_uri": "https://localhost:8080/"
        },
        "id": "-N0Jc30XcqR_",
        "outputId": "942b0011-dac1-4b0c-9aa3-9cac51bf112a"
      },
      "execution_count": 6,
      "outputs": [
        {
          "output_type": "execute_result",
          "data": {
            "text/plain": [
              "(3680, 768)"
            ]
          },
          "metadata": {},
          "execution_count": 6
        }
      ]
    },
    {
      "cell_type": "code",
      "source": [
        "from sklearn.decomposition import KernelPCA\n",
        "\n",
        "k_PCA = KernelPCA(n_components=100, kernel='rbf')\n",
        "X_train = k_PCA.fit_transform(train_matrix)\n",
        "X_test = k_PCA.transform(test_matrix)\n",
        "print(X_train.shape, X_test.shape)"
      ],
      "metadata": {
        "colab": {
          "base_uri": "https://localhost:8080/"
        },
        "id": "bvUM4J9EdmWc",
        "outputId": "6d6d54ce-cd86-4791-c5f7-ab81ed32affd"
      },
      "execution_count": 7,
      "outputs": [
        {
          "output_type": "stream",
          "name": "stdout",
          "text": [
            "(8000, 100) (3680, 100)\n"
          ]
        }
      ]
    },
    {
      "cell_type": "code",
      "source": [
        "df_train = pd.read_pickle(\"pickle/imdb_train.pickle\")\n",
        "labels = df_train['label']\n",
        "labels"
      ],
      "metadata": {
        "colab": {
          "base_uri": "https://localhost:8080/"
        },
        "id": "fy6iI4HGhn9J",
        "outputId": "be2c96b5-2c8f-4194-e497-7e26a9951a28"
      },
      "execution_count": 8,
      "outputs": [
        {
          "output_type": "execute_result",
          "data": {
            "text/plain": [
              "8305     0\n",
              "10408    0\n",
              "19465    1\n",
              "8775     0\n",
              "16013    1\n",
              "        ..\n",
              "6271     0\n",
              "21834    1\n",
              "1115     0\n",
              "8107     0\n",
              "23570    1\n",
              "Name: label, Length: 8000, dtype: int64"
            ]
          },
          "metadata": {},
          "execution_count": 8
        }
      ]
    },
    {
      "cell_type": "code",
      "source": [
        "pos_labels = labels.reset_index(drop=True).astype(bool)\n",
        "pos_labels"
      ],
      "metadata": {
        "colab": {
          "base_uri": "https://localhost:8080/"
        },
        "id": "PGyiYZICk7pV",
        "outputId": "1c7c82ac-9bcc-4aed-a0d6-a92c71f53175"
      },
      "execution_count": 9,
      "outputs": [
        {
          "output_type": "execute_result",
          "data": {
            "text/plain": [
              "0       False\n",
              "1       False\n",
              "2        True\n",
              "3       False\n",
              "4        True\n",
              "        ...  \n",
              "7995    False\n",
              "7996     True\n",
              "7997    False\n",
              "7998    False\n",
              "7999     True\n",
              "Name: label, Length: 8000, dtype: bool"
            ]
          },
          "metadata": {},
          "execution_count": 9
        }
      ]
    },
    {
      "cell_type": "code",
      "source": [
        "neg_labels = pos_labels==False\n",
        "neg_labels"
      ],
      "metadata": {
        "colab": {
          "base_uri": "https://localhost:8080/"
        },
        "id": "Wwq8BZgtl3sd",
        "outputId": "d1331551-866d-4880-cc63-4796d13d0ed3"
      },
      "execution_count": 10,
      "outputs": [
        {
          "output_type": "execute_result",
          "data": {
            "text/plain": [
              "0        True\n",
              "1        True\n",
              "2       False\n",
              "3        True\n",
              "4       False\n",
              "        ...  \n",
              "7995     True\n",
              "7996    False\n",
              "7997     True\n",
              "7998     True\n",
              "7999    False\n",
              "Name: label, Length: 8000, dtype: bool"
            ]
          },
          "metadata": {},
          "execution_count": 10
        }
      ]
    },
    {
      "cell_type": "code",
      "source": [
        "# Separate positive and negative vectors\n",
        "X_train_pos = np.delete(X_train, pos_labels, axis=0)\n",
        "X_train_neg = np.delete(X_train, neg_labels, axis=0)\n",
        "print(X_train_pos.shape)\n",
        "print(X_train_neg.shape)"
      ],
      "metadata": {
        "colab": {
          "base_uri": "https://localhost:8080/"
        },
        "id": "8-5OtvkCgVDk",
        "outputId": "9d1b2a39-01e6-40f6-8ec0-481a32b82b5d"
      },
      "execution_count": 11,
      "outputs": [
        {
          "output_type": "stream",
          "name": "stdout",
          "text": [
            "(4007, 100)\n",
            "(3993, 100)\n"
          ]
        }
      ]
    },
    {
      "cell_type": "code",
      "source": [
        "# Estimate mean for each class\n",
        "pos_mean = np.mean(X_train_pos, axis=0)\n",
        "neg_mean = np.mean(X_train_neg, axis=0)\n",
        "print(len(pos_mean), len(neg_mean))"
      ],
      "metadata": {
        "colab": {
          "base_uri": "https://localhost:8080/"
        },
        "id": "sgxNTvvenTrD",
        "outputId": "bc396078-8f69-4734-9bed-ba78ed5b9f7a"
      },
      "execution_count": 12,
      "outputs": [
        {
          "output_type": "stream",
          "name": "stdout",
          "text": [
            "100 100\n"
          ]
        }
      ]
    },
    {
      "cell_type": "code",
      "source": [
        "# Estimate covariance for each class\n",
        "from sklearn.covariance import empirical_covariance, MinCovDet\n",
        "\n",
        "pos_cov = empirical_covariance(X_train_pos)\n",
        "neg_cov = empirical_covariance(X_train_neg)\n",
        "\n",
        "pos_MinCovDet = MinCovDet().fit(X_train_pos)\n",
        "pos_mcd = pos_MinCovDet.covariance_\n",
        "neg_MinCovDet = MinCovDet().fit(X_train_neg)\n",
        "neg_mcd = neg_MinCovDet.covariance_\n",
        "print(pos_cov.shape, neg_cov.shape, pos_mcd.shape, neg_mcd.shape)"
      ],
      "metadata": {
        "colab": {
          "base_uri": "https://localhost:8080/"
        },
        "id": "I6KO2V0PoRoY",
        "outputId": "548c9a11-1cbb-4884-c349-afb2e869f522"
      },
      "execution_count": 13,
      "outputs": [
        {
          "output_type": "stream",
          "name": "stdout",
          "text": [
            "(100, 100) (100, 100) (100, 100) (100, 100)\n"
          ]
        }
      ]
    },
    {
      "cell_type": "code",
      "source": [
        "# Compute gaussian likelihood \n",
        "def gaussian_likelihood(X_test, mean, cov):\n",
        "  '''Input : \n",
        "  X_test : matrix of test embeddings\n",
        "  mean : mean (for positive or negative distribution)\n",
        "  cov : covariance (for positive or negative distribution)\n",
        "  '''\n",
        "  L = []\n",
        "  for z in X_test:\n",
        "    inv_cov = np.linalg.inv(cov)\n",
        "    likelihood = - np.dot(np.dot(np.transpose(z - mean), inv_cov), z-mean)\n",
        "    L.append(likelihood)\n",
        "  return L"
      ],
      "metadata": {
        "id": "8ip_u5iTrw-p"
      },
      "execution_count": 14,
      "outputs": []
    },
    {
      "cell_type": "code",
      "source": [
        "len(gaussian_likelihood(X_test, pos_mean, pos_cov))"
      ],
      "metadata": {
        "colab": {
          "base_uri": "https://localhost:8080/"
        },
        "id": "etAwDKCXxk-B",
        "outputId": "f2bec0fc-1d0b-4b25-dd96-eb768718c7a0"
      },
      "execution_count": 15,
      "outputs": [
        {
          "output_type": "execute_result",
          "data": {
            "text/plain": [
              "3680"
            ]
          },
          "metadata": {},
          "execution_count": 15
        }
      ]
    },
    {
      "cell_type": "code",
      "source": [
        "len(gaussian_likelihood(X_test, neg_mean, neg_cov))"
      ],
      "metadata": {
        "colab": {
          "base_uri": "https://localhost:8080/"
        },
        "id": "hZvY125jx03o",
        "outputId": "3184e9f1-a98f-4e9c-a3b8-34c91298fbec"
      },
      "execution_count": 16,
      "outputs": [
        {
          "output_type": "execute_result",
          "data": {
            "text/plain": [
              "3680"
            ]
          },
          "metadata": {},
          "execution_count": 16
        }
      ]
    },
    {
      "cell_type": "code",
      "source": [
        "df_test = pd.read_pickle('pickle/imdb_bert_test_textfooler.pickle')\n",
        "df_test"
      ],
      "metadata": {
        "colab": {
          "base_uri": "https://localhost:8080/",
          "height": 423
        },
        "id": "4-_CsP_00iVz",
        "outputId": "f2467458-72a8-4355-80b5-1a1e76df522b"
      },
      "execution_count": 17,
      "outputs": [
        {
          "output_type": "execute_result",
          "data": {
            "text/plain": [
              "                                                   text  adversarial\n",
              "3098  So, I'm wondering while watching this film, di...            1\n",
              "288   Although not a big Coen brothers fan, me am an...            1\n",
              "1686  me am in a theatres nightclubs at my pupil and...            1\n",
              "5350  The Thirdly Stooges enjoys always been some of...            1\n",
              "8615  (Possible ?? spoilers included, but nothing cr...            1\n",
              "...                                                 ...          ...\n",
              "87    This would probably be a good film to see....p...            0\n",
              "4274  I haven't seen a lot of episodes of \"Family Gu...            0\n",
              "1051  The film was half over before I managed to fig...            0\n",
              "6107  When I first saw the movie, I thought it was s...            0\n",
              "886   First off, I've read the comments by the direc...            0\n",
              "\n",
              "[3680 rows x 2 columns]"
            ],
            "text/html": [
              "\n",
              "  <div id=\"df-cd75243c-939d-4196-8df3-6a352eae72cb\">\n",
              "    <div class=\"colab-df-container\">\n",
              "      <div>\n",
              "<style scoped>\n",
              "    .dataframe tbody tr th:only-of-type {\n",
              "        vertical-align: middle;\n",
              "    }\n",
              "\n",
              "    .dataframe tbody tr th {\n",
              "        vertical-align: top;\n",
              "    }\n",
              "\n",
              "    .dataframe thead th {\n",
              "        text-align: right;\n",
              "    }\n",
              "</style>\n",
              "<table border=\"1\" class=\"dataframe\">\n",
              "  <thead>\n",
              "    <tr style=\"text-align: right;\">\n",
              "      <th></th>\n",
              "      <th>text</th>\n",
              "      <th>adversarial</th>\n",
              "    </tr>\n",
              "  </thead>\n",
              "  <tbody>\n",
              "    <tr>\n",
              "      <th>3098</th>\n",
              "      <td>So, I'm wondering while watching this film, di...</td>\n",
              "      <td>1</td>\n",
              "    </tr>\n",
              "    <tr>\n",
              "      <th>288</th>\n",
              "      <td>Although not a big Coen brothers fan, me am an...</td>\n",
              "      <td>1</td>\n",
              "    </tr>\n",
              "    <tr>\n",
              "      <th>1686</th>\n",
              "      <td>me am in a theatres nightclubs at my pupil and...</td>\n",
              "      <td>1</td>\n",
              "    </tr>\n",
              "    <tr>\n",
              "      <th>5350</th>\n",
              "      <td>The Thirdly Stooges enjoys always been some of...</td>\n",
              "      <td>1</td>\n",
              "    </tr>\n",
              "    <tr>\n",
              "      <th>8615</th>\n",
              "      <td>(Possible ?? spoilers included, but nothing cr...</td>\n",
              "      <td>1</td>\n",
              "    </tr>\n",
              "    <tr>\n",
              "      <th>...</th>\n",
              "      <td>...</td>\n",
              "      <td>...</td>\n",
              "    </tr>\n",
              "    <tr>\n",
              "      <th>87</th>\n",
              "      <td>This would probably be a good film to see....p...</td>\n",
              "      <td>0</td>\n",
              "    </tr>\n",
              "    <tr>\n",
              "      <th>4274</th>\n",
              "      <td>I haven't seen a lot of episodes of \"Family Gu...</td>\n",
              "      <td>0</td>\n",
              "    </tr>\n",
              "    <tr>\n",
              "      <th>1051</th>\n",
              "      <td>The film was half over before I managed to fig...</td>\n",
              "      <td>0</td>\n",
              "    </tr>\n",
              "    <tr>\n",
              "      <th>6107</th>\n",
              "      <td>When I first saw the movie, I thought it was s...</td>\n",
              "      <td>0</td>\n",
              "    </tr>\n",
              "    <tr>\n",
              "      <th>886</th>\n",
              "      <td>First off, I've read the comments by the direc...</td>\n",
              "      <td>0</td>\n",
              "    </tr>\n",
              "  </tbody>\n",
              "</table>\n",
              "<p>3680 rows × 2 columns</p>\n",
              "</div>\n",
              "      <button class=\"colab-df-convert\" onclick=\"convertToInteractive('df-cd75243c-939d-4196-8df3-6a352eae72cb')\"\n",
              "              title=\"Convert this dataframe to an interactive table.\"\n",
              "              style=\"display:none;\">\n",
              "        \n",
              "  <svg xmlns=\"http://www.w3.org/2000/svg\" height=\"24px\"viewBox=\"0 0 24 24\"\n",
              "       width=\"24px\">\n",
              "    <path d=\"M0 0h24v24H0V0z\" fill=\"none\"/>\n",
              "    <path d=\"M18.56 5.44l.94 2.06.94-2.06 2.06-.94-2.06-.94-.94-2.06-.94 2.06-2.06.94zm-11 1L8.5 8.5l.94-2.06 2.06-.94-2.06-.94L8.5 2.5l-.94 2.06-2.06.94zm10 10l.94 2.06.94-2.06 2.06-.94-2.06-.94-.94-2.06-.94 2.06-2.06.94z\"/><path d=\"M17.41 7.96l-1.37-1.37c-.4-.4-.92-.59-1.43-.59-.52 0-1.04.2-1.43.59L10.3 9.45l-7.72 7.72c-.78.78-.78 2.05 0 2.83L4 21.41c.39.39.9.59 1.41.59.51 0 1.02-.2 1.41-.59l7.78-7.78 2.81-2.81c.8-.78.8-2.07 0-2.86zM5.41 20L4 18.59l7.72-7.72 1.47 1.35L5.41 20z\"/>\n",
              "  </svg>\n",
              "      </button>\n",
              "      \n",
              "  <style>\n",
              "    .colab-df-container {\n",
              "      display:flex;\n",
              "      flex-wrap:wrap;\n",
              "      gap: 12px;\n",
              "    }\n",
              "\n",
              "    .colab-df-convert {\n",
              "      background-color: #E8F0FE;\n",
              "      border: none;\n",
              "      border-radius: 50%;\n",
              "      cursor: pointer;\n",
              "      display: none;\n",
              "      fill: #1967D2;\n",
              "      height: 32px;\n",
              "      padding: 0 0 0 0;\n",
              "      width: 32px;\n",
              "    }\n",
              "\n",
              "    .colab-df-convert:hover {\n",
              "      background-color: #E2EBFA;\n",
              "      box-shadow: 0px 1px 2px rgba(60, 64, 67, 0.3), 0px 1px 3px 1px rgba(60, 64, 67, 0.15);\n",
              "      fill: #174EA6;\n",
              "    }\n",
              "\n",
              "    [theme=dark] .colab-df-convert {\n",
              "      background-color: #3B4455;\n",
              "      fill: #D2E3FC;\n",
              "    }\n",
              "\n",
              "    [theme=dark] .colab-df-convert:hover {\n",
              "      background-color: #434B5C;\n",
              "      box-shadow: 0px 1px 3px 1px rgba(0, 0, 0, 0.15);\n",
              "      filter: drop-shadow(0px 1px 2px rgba(0, 0, 0, 0.3));\n",
              "      fill: #FFFFFF;\n",
              "    }\n",
              "  </style>\n",
              "\n",
              "      <script>\n",
              "        const buttonEl =\n",
              "          document.querySelector('#df-cd75243c-939d-4196-8df3-6a352eae72cb button.colab-df-convert');\n",
              "        buttonEl.style.display =\n",
              "          google.colab.kernel.accessAllowed ? 'block' : 'none';\n",
              "\n",
              "        async function convertToInteractive(key) {\n",
              "          const element = document.querySelector('#df-cd75243c-939d-4196-8df3-6a352eae72cb');\n",
              "          const dataTable =\n",
              "            await google.colab.kernel.invokeFunction('convertToInteractive',\n",
              "                                                     [key], {});\n",
              "          if (!dataTable) return;\n",
              "\n",
              "          const docLinkHtml = 'Like what you see? Visit the ' +\n",
              "            '<a target=\"_blank\" href=https://colab.research.google.com/notebooks/data_table.ipynb>data table notebook</a>'\n",
              "            + ' to learn more about interactive tables.';\n",
              "          element.innerHTML = '';\n",
              "          dataTable['output_type'] = 'display_data';\n",
              "          await google.colab.output.renderOutput(dataTable, element);\n",
              "          const docLink = document.createElement('div');\n",
              "          docLink.innerHTML = docLinkHtml;\n",
              "          element.appendChild(docLink);\n",
              "        }\n",
              "      </script>\n",
              "    </div>\n",
              "  </div>\n",
              "  "
            ]
          },
          "metadata": {},
          "execution_count": 17
        }
      ]
    },
    {
      "cell_type": "code",
      "source": [
        "def compute_negative_likelihood(X_test, pos_mean, neg_mean, pos_cov, neg_cov):\n",
        "  pos_likelihoods = gaussian_likelihood(X_test, pos_mean, pos_cov)\n",
        "  neg_likelihoods = gaussian_likelihood(X_test, neg_mean, neg_cov)\n",
        "\n",
        "  n = len(X_test)\n",
        "  assert len(pos_likelihoods)==n\n",
        "  assert len(neg_likelihoods)==n\n",
        "\n",
        "  L = []\n",
        "  for i in range(n):\n",
        "    if pos_likelihoods[i] >= neg_likelihoods[i]:\n",
        "      L.append(- pos_likelihoods[i]) # We want to algorithm to predict attacks when likelihood is the lower, i.e. (-1)*likelihood is the highest\n",
        "    else:\n",
        "      L.append(- neg_likelihoods[i])\n",
        "  \n",
        "  return L"
      ],
      "metadata": {
        "id": "1CNF9kLVwmQu"
      },
      "execution_count": 28,
      "outputs": []
    },
    {
      "cell_type": "code",
      "source": [
        "ML_cov = compute_negative_likelihood(X_test, pos_mean, neg_mean, pos_cov, neg_cov)\n",
        "ML_mcd = compute_negative_likelihood(X_test, pos_mean, neg_mean, pos_mcd, neg_mcd)\n",
        "df_results = df_test.copy()\n",
        "df_results['ML_cov'] = ML_cov\n",
        "df_results['ML_mcd'] = ML_mcd\n",
        "df_results"
      ],
      "metadata": {
        "colab": {
          "base_uri": "https://localhost:8080/",
          "height": 423
        },
        "id": "8X7IlmPG2oXe",
        "outputId": "0fbb26ab-a465-4709-a76a-a605025b4e25"
      },
      "execution_count": 29,
      "outputs": [
        {
          "output_type": "execute_result",
          "data": {
            "text/plain": [
              "                                                   text  adversarial  \\\n",
              "3098  So, I'm wondering while watching this film, di...            1   \n",
              "288   Although not a big Coen brothers fan, me am an...            1   \n",
              "1686  me am in a theatres nightclubs at my pupil and...            1   \n",
              "5350  The Thirdly Stooges enjoys always been some of...            1   \n",
              "8615  (Possible ?? spoilers included, but nothing cr...            1   \n",
              "...                                                 ...          ...   \n",
              "87    This would probably be a good film to see....p...            0   \n",
              "4274  I haven't seen a lot of episodes of \"Family Gu...            0   \n",
              "1051  The film was half over before I managed to fig...            0   \n",
              "6107  When I first saw the movie, I thought it was s...            0   \n",
              "886   First off, I've read the comments by the direc...            0   \n",
              "\n",
              "          ML_cov       ML_mcd  \n",
              "3098  177.687863   848.398088  \n",
              "288   131.887217   351.114338  \n",
              "1686  502.339277  2868.192758  \n",
              "5350  193.483255   725.582601  \n",
              "8615  193.945486   951.354530  \n",
              "...          ...          ...  \n",
              "87     46.587020    78.512158  \n",
              "4274  173.557464   572.669455  \n",
              "1051  274.824305   844.027281  \n",
              "6107  107.112954   143.803584  \n",
              "886   153.972483   539.072823  \n",
              "\n",
              "[3680 rows x 4 columns]"
            ],
            "text/html": [
              "\n",
              "  <div id=\"df-d7843030-b803-4473-931b-9d7c28f37a9e\">\n",
              "    <div class=\"colab-df-container\">\n",
              "      <div>\n",
              "<style scoped>\n",
              "    .dataframe tbody tr th:only-of-type {\n",
              "        vertical-align: middle;\n",
              "    }\n",
              "\n",
              "    .dataframe tbody tr th {\n",
              "        vertical-align: top;\n",
              "    }\n",
              "\n",
              "    .dataframe thead th {\n",
              "        text-align: right;\n",
              "    }\n",
              "</style>\n",
              "<table border=\"1\" class=\"dataframe\">\n",
              "  <thead>\n",
              "    <tr style=\"text-align: right;\">\n",
              "      <th></th>\n",
              "      <th>text</th>\n",
              "      <th>adversarial</th>\n",
              "      <th>ML_cov</th>\n",
              "      <th>ML_mcd</th>\n",
              "    </tr>\n",
              "  </thead>\n",
              "  <tbody>\n",
              "    <tr>\n",
              "      <th>3098</th>\n",
              "      <td>So, I'm wondering while watching this film, di...</td>\n",
              "      <td>1</td>\n",
              "      <td>177.687863</td>\n",
              "      <td>848.398088</td>\n",
              "    </tr>\n",
              "    <tr>\n",
              "      <th>288</th>\n",
              "      <td>Although not a big Coen brothers fan, me am an...</td>\n",
              "      <td>1</td>\n",
              "      <td>131.887217</td>\n",
              "      <td>351.114338</td>\n",
              "    </tr>\n",
              "    <tr>\n",
              "      <th>1686</th>\n",
              "      <td>me am in a theatres nightclubs at my pupil and...</td>\n",
              "      <td>1</td>\n",
              "      <td>502.339277</td>\n",
              "      <td>2868.192758</td>\n",
              "    </tr>\n",
              "    <tr>\n",
              "      <th>5350</th>\n",
              "      <td>The Thirdly Stooges enjoys always been some of...</td>\n",
              "      <td>1</td>\n",
              "      <td>193.483255</td>\n",
              "      <td>725.582601</td>\n",
              "    </tr>\n",
              "    <tr>\n",
              "      <th>8615</th>\n",
              "      <td>(Possible ?? spoilers included, but nothing cr...</td>\n",
              "      <td>1</td>\n",
              "      <td>193.945486</td>\n",
              "      <td>951.354530</td>\n",
              "    </tr>\n",
              "    <tr>\n",
              "      <th>...</th>\n",
              "      <td>...</td>\n",
              "      <td>...</td>\n",
              "      <td>...</td>\n",
              "      <td>...</td>\n",
              "    </tr>\n",
              "    <tr>\n",
              "      <th>87</th>\n",
              "      <td>This would probably be a good film to see....p...</td>\n",
              "      <td>0</td>\n",
              "      <td>46.587020</td>\n",
              "      <td>78.512158</td>\n",
              "    </tr>\n",
              "    <tr>\n",
              "      <th>4274</th>\n",
              "      <td>I haven't seen a lot of episodes of \"Family Gu...</td>\n",
              "      <td>0</td>\n",
              "      <td>173.557464</td>\n",
              "      <td>572.669455</td>\n",
              "    </tr>\n",
              "    <tr>\n",
              "      <th>1051</th>\n",
              "      <td>The film was half over before I managed to fig...</td>\n",
              "      <td>0</td>\n",
              "      <td>274.824305</td>\n",
              "      <td>844.027281</td>\n",
              "    </tr>\n",
              "    <tr>\n",
              "      <th>6107</th>\n",
              "      <td>When I first saw the movie, I thought it was s...</td>\n",
              "      <td>0</td>\n",
              "      <td>107.112954</td>\n",
              "      <td>143.803584</td>\n",
              "    </tr>\n",
              "    <tr>\n",
              "      <th>886</th>\n",
              "      <td>First off, I've read the comments by the direc...</td>\n",
              "      <td>0</td>\n",
              "      <td>153.972483</td>\n",
              "      <td>539.072823</td>\n",
              "    </tr>\n",
              "  </tbody>\n",
              "</table>\n",
              "<p>3680 rows × 4 columns</p>\n",
              "</div>\n",
              "      <button class=\"colab-df-convert\" onclick=\"convertToInteractive('df-d7843030-b803-4473-931b-9d7c28f37a9e')\"\n",
              "              title=\"Convert this dataframe to an interactive table.\"\n",
              "              style=\"display:none;\">\n",
              "        \n",
              "  <svg xmlns=\"http://www.w3.org/2000/svg\" height=\"24px\"viewBox=\"0 0 24 24\"\n",
              "       width=\"24px\">\n",
              "    <path d=\"M0 0h24v24H0V0z\" fill=\"none\"/>\n",
              "    <path d=\"M18.56 5.44l.94 2.06.94-2.06 2.06-.94-2.06-.94-.94-2.06-.94 2.06-2.06.94zm-11 1L8.5 8.5l.94-2.06 2.06-.94-2.06-.94L8.5 2.5l-.94 2.06-2.06.94zm10 10l.94 2.06.94-2.06 2.06-.94-2.06-.94-.94-2.06-.94 2.06-2.06.94z\"/><path d=\"M17.41 7.96l-1.37-1.37c-.4-.4-.92-.59-1.43-.59-.52 0-1.04.2-1.43.59L10.3 9.45l-7.72 7.72c-.78.78-.78 2.05 0 2.83L4 21.41c.39.39.9.59 1.41.59.51 0 1.02-.2 1.41-.59l7.78-7.78 2.81-2.81c.8-.78.8-2.07 0-2.86zM5.41 20L4 18.59l7.72-7.72 1.47 1.35L5.41 20z\"/>\n",
              "  </svg>\n",
              "      </button>\n",
              "      \n",
              "  <style>\n",
              "    .colab-df-container {\n",
              "      display:flex;\n",
              "      flex-wrap:wrap;\n",
              "      gap: 12px;\n",
              "    }\n",
              "\n",
              "    .colab-df-convert {\n",
              "      background-color: #E8F0FE;\n",
              "      border: none;\n",
              "      border-radius: 50%;\n",
              "      cursor: pointer;\n",
              "      display: none;\n",
              "      fill: #1967D2;\n",
              "      height: 32px;\n",
              "      padding: 0 0 0 0;\n",
              "      width: 32px;\n",
              "    }\n",
              "\n",
              "    .colab-df-convert:hover {\n",
              "      background-color: #E2EBFA;\n",
              "      box-shadow: 0px 1px 2px rgba(60, 64, 67, 0.3), 0px 1px 3px 1px rgba(60, 64, 67, 0.15);\n",
              "      fill: #174EA6;\n",
              "    }\n",
              "\n",
              "    [theme=dark] .colab-df-convert {\n",
              "      background-color: #3B4455;\n",
              "      fill: #D2E3FC;\n",
              "    }\n",
              "\n",
              "    [theme=dark] .colab-df-convert:hover {\n",
              "      background-color: #434B5C;\n",
              "      box-shadow: 0px 1px 3px 1px rgba(0, 0, 0, 0.15);\n",
              "      filter: drop-shadow(0px 1px 2px rgba(0, 0, 0, 0.3));\n",
              "      fill: #FFFFFF;\n",
              "    }\n",
              "  </style>\n",
              "\n",
              "      <script>\n",
              "        const buttonEl =\n",
              "          document.querySelector('#df-d7843030-b803-4473-931b-9d7c28f37a9e button.colab-df-convert');\n",
              "        buttonEl.style.display =\n",
              "          google.colab.kernel.accessAllowed ? 'block' : 'none';\n",
              "\n",
              "        async function convertToInteractive(key) {\n",
              "          const element = document.querySelector('#df-d7843030-b803-4473-931b-9d7c28f37a9e');\n",
              "          const dataTable =\n",
              "            await google.colab.kernel.invokeFunction('convertToInteractive',\n",
              "                                                     [key], {});\n",
              "          if (!dataTable) return;\n",
              "\n",
              "          const docLinkHtml = 'Like what you see? Visit the ' +\n",
              "            '<a target=\"_blank\" href=https://colab.research.google.com/notebooks/data_table.ipynb>data table notebook</a>'\n",
              "            + ' to learn more about interactive tables.';\n",
              "          element.innerHTML = '';\n",
              "          dataTable['output_type'] = 'display_data';\n",
              "          await google.colab.output.renderOutput(dataTable, element);\n",
              "          const docLink = document.createElement('div');\n",
              "          docLink.innerHTML = docLinkHtml;\n",
              "          element.appendChild(docLink);\n",
              "        }\n",
              "      </script>\n",
              "    </div>\n",
              "  </div>\n",
              "  "
            ]
          },
          "metadata": {},
          "execution_count": 29
        }
      ]
    },
    {
      "cell_type": "code",
      "source": [
        "df_results.sort_values(by='ML_cov', ascending=False)"
      ],
      "metadata": {
        "colab": {
          "base_uri": "https://localhost:8080/",
          "height": 423
        },
        "id": "L_mCntjW-MKc",
        "outputId": "24981744-c8aa-420f-f796-4bcf2c00b09d"
      },
      "execution_count": 31,
      "outputs": [
        {
          "output_type": "execute_result",
          "data": {
            "text/plain": [
              "                                                   text  adversarial  \\\n",
              "4525  Afterward seen just about every movie on recor...            1   \n",
              "3988  what was Bruce Willis thinking when he signed ...            1   \n",
              "1907  Until filling this infernal piece of wreckage,...            1   \n",
              "3527  A fine young cast is wasted in this empty, mou...            1   \n",
              "1486  Whenever I go to watching this theatres it was...            1   \n",
              "...                                                 ...          ...   \n",
              "52    This failed exercise in satire or commentary o...            0   \n",
              "2252  I bought this movie sight unseen at a sci-fi c...            0   \n",
              "8702  This is a great little movie, full of interest...            0   \n",
              "2208  I am deeply disturbed by some posts I am readi...            0   \n",
              "1206  So you have the spoiler warning---but I would ...            0   \n",
              "\n",
              "          ML_cov       ML_mcd  \n",
              "4525  726.380186  3853.933333  \n",
              "3988  700.220832  2580.246391  \n",
              "1907  671.306057  3056.776554  \n",
              "3527  668.132584  5991.893613  \n",
              "1486  659.485510  4314.519594  \n",
              "...          ...          ...  \n",
              "52     37.900151    85.055534  \n",
              "2252   37.856176    70.747688  \n",
              "8702   36.627207    80.291289  \n",
              "2208   36.214655    65.155152  \n",
              "1206   35.855506    59.312085  \n",
              "\n",
              "[3680 rows x 4 columns]"
            ],
            "text/html": [
              "\n",
              "  <div id=\"df-27344d9e-a08e-405e-a57f-ab0f20e3261e\">\n",
              "    <div class=\"colab-df-container\">\n",
              "      <div>\n",
              "<style scoped>\n",
              "    .dataframe tbody tr th:only-of-type {\n",
              "        vertical-align: middle;\n",
              "    }\n",
              "\n",
              "    .dataframe tbody tr th {\n",
              "        vertical-align: top;\n",
              "    }\n",
              "\n",
              "    .dataframe thead th {\n",
              "        text-align: right;\n",
              "    }\n",
              "</style>\n",
              "<table border=\"1\" class=\"dataframe\">\n",
              "  <thead>\n",
              "    <tr style=\"text-align: right;\">\n",
              "      <th></th>\n",
              "      <th>text</th>\n",
              "      <th>adversarial</th>\n",
              "      <th>ML_cov</th>\n",
              "      <th>ML_mcd</th>\n",
              "    </tr>\n",
              "  </thead>\n",
              "  <tbody>\n",
              "    <tr>\n",
              "      <th>4525</th>\n",
              "      <td>Afterward seen just about every movie on recor...</td>\n",
              "      <td>1</td>\n",
              "      <td>726.380186</td>\n",
              "      <td>3853.933333</td>\n",
              "    </tr>\n",
              "    <tr>\n",
              "      <th>3988</th>\n",
              "      <td>what was Bruce Willis thinking when he signed ...</td>\n",
              "      <td>1</td>\n",
              "      <td>700.220832</td>\n",
              "      <td>2580.246391</td>\n",
              "    </tr>\n",
              "    <tr>\n",
              "      <th>1907</th>\n",
              "      <td>Until filling this infernal piece of wreckage,...</td>\n",
              "      <td>1</td>\n",
              "      <td>671.306057</td>\n",
              "      <td>3056.776554</td>\n",
              "    </tr>\n",
              "    <tr>\n",
              "      <th>3527</th>\n",
              "      <td>A fine young cast is wasted in this empty, mou...</td>\n",
              "      <td>1</td>\n",
              "      <td>668.132584</td>\n",
              "      <td>5991.893613</td>\n",
              "    </tr>\n",
              "    <tr>\n",
              "      <th>1486</th>\n",
              "      <td>Whenever I go to watching this theatres it was...</td>\n",
              "      <td>1</td>\n",
              "      <td>659.485510</td>\n",
              "      <td>4314.519594</td>\n",
              "    </tr>\n",
              "    <tr>\n",
              "      <th>...</th>\n",
              "      <td>...</td>\n",
              "      <td>...</td>\n",
              "      <td>...</td>\n",
              "      <td>...</td>\n",
              "    </tr>\n",
              "    <tr>\n",
              "      <th>52</th>\n",
              "      <td>This failed exercise in satire or commentary o...</td>\n",
              "      <td>0</td>\n",
              "      <td>37.900151</td>\n",
              "      <td>85.055534</td>\n",
              "    </tr>\n",
              "    <tr>\n",
              "      <th>2252</th>\n",
              "      <td>I bought this movie sight unseen at a sci-fi c...</td>\n",
              "      <td>0</td>\n",
              "      <td>37.856176</td>\n",
              "      <td>70.747688</td>\n",
              "    </tr>\n",
              "    <tr>\n",
              "      <th>8702</th>\n",
              "      <td>This is a great little movie, full of interest...</td>\n",
              "      <td>0</td>\n",
              "      <td>36.627207</td>\n",
              "      <td>80.291289</td>\n",
              "    </tr>\n",
              "    <tr>\n",
              "      <th>2208</th>\n",
              "      <td>I am deeply disturbed by some posts I am readi...</td>\n",
              "      <td>0</td>\n",
              "      <td>36.214655</td>\n",
              "      <td>65.155152</td>\n",
              "    </tr>\n",
              "    <tr>\n",
              "      <th>1206</th>\n",
              "      <td>So you have the spoiler warning---but I would ...</td>\n",
              "      <td>0</td>\n",
              "      <td>35.855506</td>\n",
              "      <td>59.312085</td>\n",
              "    </tr>\n",
              "  </tbody>\n",
              "</table>\n",
              "<p>3680 rows × 4 columns</p>\n",
              "</div>\n",
              "      <button class=\"colab-df-convert\" onclick=\"convertToInteractive('df-27344d9e-a08e-405e-a57f-ab0f20e3261e')\"\n",
              "              title=\"Convert this dataframe to an interactive table.\"\n",
              "              style=\"display:none;\">\n",
              "        \n",
              "  <svg xmlns=\"http://www.w3.org/2000/svg\" height=\"24px\"viewBox=\"0 0 24 24\"\n",
              "       width=\"24px\">\n",
              "    <path d=\"M0 0h24v24H0V0z\" fill=\"none\"/>\n",
              "    <path d=\"M18.56 5.44l.94 2.06.94-2.06 2.06-.94-2.06-.94-.94-2.06-.94 2.06-2.06.94zm-11 1L8.5 8.5l.94-2.06 2.06-.94-2.06-.94L8.5 2.5l-.94 2.06-2.06.94zm10 10l.94 2.06.94-2.06 2.06-.94-2.06-.94-.94-2.06-.94 2.06-2.06.94z\"/><path d=\"M17.41 7.96l-1.37-1.37c-.4-.4-.92-.59-1.43-.59-.52 0-1.04.2-1.43.59L10.3 9.45l-7.72 7.72c-.78.78-.78 2.05 0 2.83L4 21.41c.39.39.9.59 1.41.59.51 0 1.02-.2 1.41-.59l7.78-7.78 2.81-2.81c.8-.78.8-2.07 0-2.86zM5.41 20L4 18.59l7.72-7.72 1.47 1.35L5.41 20z\"/>\n",
              "  </svg>\n",
              "      </button>\n",
              "      \n",
              "  <style>\n",
              "    .colab-df-container {\n",
              "      display:flex;\n",
              "      flex-wrap:wrap;\n",
              "      gap: 12px;\n",
              "    }\n",
              "\n",
              "    .colab-df-convert {\n",
              "      background-color: #E8F0FE;\n",
              "      border: none;\n",
              "      border-radius: 50%;\n",
              "      cursor: pointer;\n",
              "      display: none;\n",
              "      fill: #1967D2;\n",
              "      height: 32px;\n",
              "      padding: 0 0 0 0;\n",
              "      width: 32px;\n",
              "    }\n",
              "\n",
              "    .colab-df-convert:hover {\n",
              "      background-color: #E2EBFA;\n",
              "      box-shadow: 0px 1px 2px rgba(60, 64, 67, 0.3), 0px 1px 3px 1px rgba(60, 64, 67, 0.15);\n",
              "      fill: #174EA6;\n",
              "    }\n",
              "\n",
              "    [theme=dark] .colab-df-convert {\n",
              "      background-color: #3B4455;\n",
              "      fill: #D2E3FC;\n",
              "    }\n",
              "\n",
              "    [theme=dark] .colab-df-convert:hover {\n",
              "      background-color: #434B5C;\n",
              "      box-shadow: 0px 1px 3px 1px rgba(0, 0, 0, 0.15);\n",
              "      filter: drop-shadow(0px 1px 2px rgba(0, 0, 0, 0.3));\n",
              "      fill: #FFFFFF;\n",
              "    }\n",
              "  </style>\n",
              "\n",
              "      <script>\n",
              "        const buttonEl =\n",
              "          document.querySelector('#df-27344d9e-a08e-405e-a57f-ab0f20e3261e button.colab-df-convert');\n",
              "        buttonEl.style.display =\n",
              "          google.colab.kernel.accessAllowed ? 'block' : 'none';\n",
              "\n",
              "        async function convertToInteractive(key) {\n",
              "          const element = document.querySelector('#df-27344d9e-a08e-405e-a57f-ab0f20e3261e');\n",
              "          const dataTable =\n",
              "            await google.colab.kernel.invokeFunction('convertToInteractive',\n",
              "                                                     [key], {});\n",
              "          if (!dataTable) return;\n",
              "\n",
              "          const docLinkHtml = 'Like what you see? Visit the ' +\n",
              "            '<a target=\"_blank\" href=https://colab.research.google.com/notebooks/data_table.ipynb>data table notebook</a>'\n",
              "            + ' to learn more about interactive tables.';\n",
              "          element.innerHTML = '';\n",
              "          dataTable['output_type'] = 'display_data';\n",
              "          await google.colab.output.renderOutput(dataTable, element);\n",
              "          const docLink = document.createElement('div');\n",
              "          docLink.innerHTML = docLinkHtml;\n",
              "          element.appendChild(docLink);\n",
              "        }\n",
              "      </script>\n",
              "    </div>\n",
              "  </div>\n",
              "  "
            ]
          },
          "metadata": {},
          "execution_count": 31
        }
      ]
    }
  ]
}