{
  "nbformat": 4,
  "nbformat_minor": 0,
  "metadata": {
    "colab": {
      "provenance": [],
      "authorship_tag": "ABX9TyOmsl2FAnjWE4cj9qvsTNvK"
    },
    "kernelspec": {
      "name": "python3",
      "display_name": "Python 3"
    },
    "language_info": {
      "name": "python"
    }
  },
  "cells": [
    {
      "cell_type": "code",
      "execution_count": 1,
      "metadata": {
        "id": "0FpVro1Gkj9J"
      },
      "outputs": [],
      "source": [
        "import pandas as pd\n",
        "import numpy as np\n",
        "import matplotlib.pyplot as plt\n",
        "import seaborn as sns\n",
        "\n",
        "%matplotlib inline"
      ]
    },
    {
      "cell_type": "code",
      "source": [
        "# Directory for Colab (optional, use if running Colab)\n",
        "from google.colab import drive\n",
        "drive.mount('/content/gdrive/')"
      ],
      "metadata": {
        "colab": {
          "base_uri": "https://localhost:8080/"
        },
        "id": "wfoRzMyJk5VN",
        "outputId": "fe9aae32-7de4-4831-cbb5-f3653ca3c309"
      },
      "execution_count": 2,
      "outputs": [
        {
          "output_type": "stream",
          "name": "stdout",
          "text": [
            "Drive already mounted at /content/gdrive/; to attempt to forcibly remount, call drive.mount(\"/content/gdrive/\", force_remount=True).\n"
          ]
        }
      ]
    },
    {
      "cell_type": "code",
      "source": [
        "import os\n",
        "os.chdir('/content/gdrive/MyDrive/NLP_project')"
      ],
      "metadata": {
        "id": "v7pbqP-0lDmx"
      },
      "execution_count": 3,
      "outputs": []
    },
    {
      "cell_type": "code",
      "source": [
        "!pwd"
      ],
      "metadata": {
        "colab": {
          "base_uri": "https://localhost:8080/"
        },
        "id": "Hz_vpk4NlGZV",
        "outputId": "7e0ddef8-8f00-46b9-e17f-d5c77be502cd"
      },
      "execution_count": 4,
      "outputs": [
        {
          "output_type": "stream",
          "name": "stdout",
          "text": [
            "/content/gdrive/MyDrive/NLP_project\n"
          ]
        }
      ]
    },
    {
      "cell_type": "code",
      "source": [
        "df_results = pd.read_pickle('results/imdb_results_bert_textfooler.pickle')\n",
        "df_results.head()"
      ],
      "metadata": {
        "colab": {
          "base_uri": "https://localhost:8080/",
          "height": 206
        },
        "id": "vUZvq6SglHRZ",
        "outputId": "95639ddd-598d-4ec3-a066-985366d0e487"
      },
      "execution_count": 5,
      "outputs": [
        {
          "output_type": "execute_result",
          "data": {
            "text/plain": [
              "                                                   text  adversarial  \\\n",
              "3098  So, I'm wondering while watching this film, di...            1   \n",
              "288   Although not a big Coen brothers fan, me am an...            1   \n",
              "1686  me am in a theatres nightclubs at my pupil and...            1   \n",
              "5350  The Thirdly Stooges enjoys always been some of...            1   \n",
              "8615  (Possible ?? spoilers included, but nothing cr...            1   \n",
              "\n",
              "          OL_cov       OL_mcd  \n",
              "3098  177.687863   870.170585  \n",
              "288   131.887217   350.403912  \n",
              "1686  502.339277  2857.602028  \n",
              "5350  193.483255   712.918214  \n",
              "8615  193.945486   918.953766  "
            ],
            "text/html": [
              "\n",
              "  <div id=\"df-c31b873b-2022-49e3-92fb-c89de87e2fa4\">\n",
              "    <div class=\"colab-df-container\">\n",
              "      <div>\n",
              "<style scoped>\n",
              "    .dataframe tbody tr th:only-of-type {\n",
              "        vertical-align: middle;\n",
              "    }\n",
              "\n",
              "    .dataframe tbody tr th {\n",
              "        vertical-align: top;\n",
              "    }\n",
              "\n",
              "    .dataframe thead th {\n",
              "        text-align: right;\n",
              "    }\n",
              "</style>\n",
              "<table border=\"1\" class=\"dataframe\">\n",
              "  <thead>\n",
              "    <tr style=\"text-align: right;\">\n",
              "      <th></th>\n",
              "      <th>text</th>\n",
              "      <th>adversarial</th>\n",
              "      <th>OL_cov</th>\n",
              "      <th>OL_mcd</th>\n",
              "    </tr>\n",
              "  </thead>\n",
              "  <tbody>\n",
              "    <tr>\n",
              "      <th>3098</th>\n",
              "      <td>So, I'm wondering while watching this film, di...</td>\n",
              "      <td>1</td>\n",
              "      <td>177.687863</td>\n",
              "      <td>870.170585</td>\n",
              "    </tr>\n",
              "    <tr>\n",
              "      <th>288</th>\n",
              "      <td>Although not a big Coen brothers fan, me am an...</td>\n",
              "      <td>1</td>\n",
              "      <td>131.887217</td>\n",
              "      <td>350.403912</td>\n",
              "    </tr>\n",
              "    <tr>\n",
              "      <th>1686</th>\n",
              "      <td>me am in a theatres nightclubs at my pupil and...</td>\n",
              "      <td>1</td>\n",
              "      <td>502.339277</td>\n",
              "      <td>2857.602028</td>\n",
              "    </tr>\n",
              "    <tr>\n",
              "      <th>5350</th>\n",
              "      <td>The Thirdly Stooges enjoys always been some of...</td>\n",
              "      <td>1</td>\n",
              "      <td>193.483255</td>\n",
              "      <td>712.918214</td>\n",
              "    </tr>\n",
              "    <tr>\n",
              "      <th>8615</th>\n",
              "      <td>(Possible ?? spoilers included, but nothing cr...</td>\n",
              "      <td>1</td>\n",
              "      <td>193.945486</td>\n",
              "      <td>918.953766</td>\n",
              "    </tr>\n",
              "  </tbody>\n",
              "</table>\n",
              "</div>\n",
              "      <button class=\"colab-df-convert\" onclick=\"convertToInteractive('df-c31b873b-2022-49e3-92fb-c89de87e2fa4')\"\n",
              "              title=\"Convert this dataframe to an interactive table.\"\n",
              "              style=\"display:none;\">\n",
              "        \n",
              "  <svg xmlns=\"http://www.w3.org/2000/svg\" height=\"24px\"viewBox=\"0 0 24 24\"\n",
              "       width=\"24px\">\n",
              "    <path d=\"M0 0h24v24H0V0z\" fill=\"none\"/>\n",
              "    <path d=\"M18.56 5.44l.94 2.06.94-2.06 2.06-.94-2.06-.94-.94-2.06-.94 2.06-2.06.94zm-11 1L8.5 8.5l.94-2.06 2.06-.94-2.06-.94L8.5 2.5l-.94 2.06-2.06.94zm10 10l.94 2.06.94-2.06 2.06-.94-2.06-.94-.94-2.06-.94 2.06-2.06.94z\"/><path d=\"M17.41 7.96l-1.37-1.37c-.4-.4-.92-.59-1.43-.59-.52 0-1.04.2-1.43.59L10.3 9.45l-7.72 7.72c-.78.78-.78 2.05 0 2.83L4 21.41c.39.39.9.59 1.41.59.51 0 1.02-.2 1.41-.59l7.78-7.78 2.81-2.81c.8-.78.8-2.07 0-2.86zM5.41 20L4 18.59l7.72-7.72 1.47 1.35L5.41 20z\"/>\n",
              "  </svg>\n",
              "      </button>\n",
              "      \n",
              "  <style>\n",
              "    .colab-df-container {\n",
              "      display:flex;\n",
              "      flex-wrap:wrap;\n",
              "      gap: 12px;\n",
              "    }\n",
              "\n",
              "    .colab-df-convert {\n",
              "      background-color: #E8F0FE;\n",
              "      border: none;\n",
              "      border-radius: 50%;\n",
              "      cursor: pointer;\n",
              "      display: none;\n",
              "      fill: #1967D2;\n",
              "      height: 32px;\n",
              "      padding: 0 0 0 0;\n",
              "      width: 32px;\n",
              "    }\n",
              "\n",
              "    .colab-df-convert:hover {\n",
              "      background-color: #E2EBFA;\n",
              "      box-shadow: 0px 1px 2px rgba(60, 64, 67, 0.3), 0px 1px 3px 1px rgba(60, 64, 67, 0.15);\n",
              "      fill: #174EA6;\n",
              "    }\n",
              "\n",
              "    [theme=dark] .colab-df-convert {\n",
              "      background-color: #3B4455;\n",
              "      fill: #D2E3FC;\n",
              "    }\n",
              "\n",
              "    [theme=dark] .colab-df-convert:hover {\n",
              "      background-color: #434B5C;\n",
              "      box-shadow: 0px 1px 3px 1px rgba(0, 0, 0, 0.15);\n",
              "      filter: drop-shadow(0px 1px 2px rgba(0, 0, 0, 0.3));\n",
              "      fill: #FFFFFF;\n",
              "    }\n",
              "  </style>\n",
              "\n",
              "      <script>\n",
              "        const buttonEl =\n",
              "          document.querySelector('#df-c31b873b-2022-49e3-92fb-c89de87e2fa4 button.colab-df-convert');\n",
              "        buttonEl.style.display =\n",
              "          google.colab.kernel.accessAllowed ? 'block' : 'none';\n",
              "\n",
              "        async function convertToInteractive(key) {\n",
              "          const element = document.querySelector('#df-c31b873b-2022-49e3-92fb-c89de87e2fa4');\n",
              "          const dataTable =\n",
              "            await google.colab.kernel.invokeFunction('convertToInteractive',\n",
              "                                                     [key], {});\n",
              "          if (!dataTable) return;\n",
              "\n",
              "          const docLinkHtml = 'Like what you see? Visit the ' +\n",
              "            '<a target=\"_blank\" href=https://colab.research.google.com/notebooks/data_table.ipynb>data table notebook</a>'\n",
              "            + ' to learn more about interactive tables.';\n",
              "          element.innerHTML = '';\n",
              "          dataTable['output_type'] = 'display_data';\n",
              "          await google.colab.output.renderOutput(dataTable, element);\n",
              "          const docLink = document.createElement('div');\n",
              "          docLink.innerHTML = docLinkHtml;\n",
              "          element.appendChild(docLink);\n",
              "        }\n",
              "      </script>\n",
              "    </div>\n",
              "  </div>\n",
              "  "
            ]
          },
          "metadata": {},
          "execution_count": 5
        }
      ]
    },
    {
      "cell_type": "code",
      "source": [
        "df_plot = df_results.copy()"
      ],
      "metadata": {
        "id": "E_UILyBqzr4y"
      },
      "execution_count": 6,
      "outputs": []
    },
    {
      "cell_type": "code",
      "source": [
        "df_plot['likelihood_cov'] = df_results['OL_cov']*(-1)\n",
        "df_plot['likelihood_mcd'] = df_results['OL_mcd']*(-1)"
      ],
      "metadata": {
        "id": "8Q8n-YfEmRhj"
      },
      "execution_count": 7,
      "outputs": []
    },
    {
      "cell_type": "code",
      "source": [
        "sns.set(rc={\"figure.figsize\":(12, 6)})\n",
        "sns.histplot(data=df_plot, x='likelihood_cov', hue='adversarial', bins=30)\n",
        "plt.xlabel('log(likelihood)', fontsize=20)\n",
        "plt.ylabel('Count', fontsize=20)\n",
        "plt.xticks(color='w')\n",
        "plt.legend(['adv', 'clean'], fontsize=24)\n",
        "plt.grid(False)\n",
        "plt.savefig('plot/dist_cov.pdf')\n",
        "plt.show()"
      ],
      "metadata": {
        "colab": {
          "base_uri": "https://localhost:8080/",
          "height": 400
        },
        "id": "sTf5Lbq5l-6r",
        "outputId": "af5c45cf-604a-48f6-bce4-0d06780975e9"
      },
      "execution_count": 8,
      "outputs": [
        {
          "output_type": "display_data",
          "data": {
            "text/plain": [
              "<Figure size 864x432 with 1 Axes>"
            ],
            "image/png": "[encoded data removed]"
          },
          "metadata": {}
        }
      ]
    },
    {
      "cell_type": "code",
      "source": [
        "sns.histplot(data=df_plot, x='likelihood_mcd', hue='adversarial', bins=30)\n",
        "plt.xlabel('log(likelihood)', fontsize=20)\n",
        "plt.ylabel('Count', fontsize=20)\n",
        "plt.xticks(color='w')\n",
        "plt.legend(['adv', 'clean'], fontsize=24)\n",
        "plt.grid(False)\n",
        "plt.savefig('plot/dist_mcd.pdf')\n",
        "plt.show()"
      ],
      "metadata": {
        "colab": {
          "base_uri": "https://localhost:8080/",
          "height": 400
        },
        "id": "dbDtaW8iqS4J",
        "outputId": "6d76481f-ebdb-4e38-d9ff-511d152560ff"
      },
      "execution_count": 9,
      "outputs": [
        {
          "output_type": "display_data",
          "data": {
            "text/plain": [
              "<Figure size 864x432 with 1 Axes>"
            ],
            "image/png": "[encoded data removed]"
          },
          "metadata": {}
        }
      ]
    },
    {
      "cell_type": "code",
      "source": [
        "from sklearn.metrics import roc_auc_score, roc_curve\n",
        "\n",
        "def plot_roc_curve(df_results, method):\n",
        "  sns.set(rc={\"figure.figsize\":(6, 6)})\n",
        "  '''Input : df_results\n",
        "  method : 'mcd' or 'cov' '''\n",
        "  assert method=='mcd' or method=='cov'\n",
        "\n",
        "  if method=='mcd':\n",
        "    fpr, tpr, _ = roc_curve(df_results['adversarial'],  df_results['OL_mcd'])\n",
        "    plt.plot(fpr,tpr)\n",
        "    plt.ylabel('True Positive Rate')\n",
        "    plt.xlabel('False Positive Rate')\n",
        "    plt.show()\n",
        "    return None\n",
        "\n",
        "  fpr, tpr, _ = roc_curve(df_results['adversarial'],  df_results['OL_cov'])\n",
        "  plt.plot(fpr,tpr)\n",
        "  plt.ylabel('True Positive Rate')\n",
        "  plt.xlabel('False Positive Rate')\n",
        "  plt.show()\n",
        "  return None"
      ],
      "metadata": {
        "id": "P1KiJbeWvfNJ"
      },
      "execution_count": 10,
      "outputs": []
    },
    {
      "cell_type": "code",
      "source": [
        "plot_roc_curve(df_results, 'mcd')"
      ],
      "metadata": {
        "colab": {
          "base_uri": "https://localhost:8080/",
          "height": 394
        },
        "id": "wbaS4JEpw40U",
        "outputId": "d05c10fc-d474-403d-f06e-51a30e1e1966"
      },
      "execution_count": 11,
      "outputs": [
        {
          "output_type": "display_data",
          "data": {
            "text/plain": [
              "<Figure size 432x432 with 1 Axes>"
            ],
            "image/png": "[encoded data removed]"
          },
          "metadata": {}
        }
      ]
    },
    {
      "cell_type": "code",
      "source": [
        "plot_roc_curve(df_results, 'cov')"
      ],
      "metadata": {
        "colab": {
          "base_uri": "https://localhost:8080/",
          "height": 394
        },
        "id": "EVILCgIGw7hw",
        "outputId": "69055486-39d5-4942-cfc7-734b034cdc78"
      },
      "execution_count": 12,
      "outputs": [
        {
          "output_type": "display_data",
          "data": {
            "text/plain": [
              "<Figure size 432x432 with 1 Axes>"
            ],
            "image/png": "[encoded data removed]"
          },
          "metadata": {}
        }
      ]
    },
    {
      "cell_type": "code",
      "source": [
        "def compute_roc_auc(df_results, method):\n",
        "  '''Input : df_results\n",
        "  method : 'mcd' or 'cov' '''\n",
        "  assert method=='mcd' or method=='cov'\n",
        "  if method=='mcd':\n",
        "    return roc_auc_score(df_results['adversarial'], df_results['OL_mcd'])\n",
        "  return roc_auc_score(df_results['adversarial'], df_results['OL_cov'])"
      ],
      "metadata": {
        "id": "FGrOgzFd7h_M"
      },
      "execution_count": 13,
      "outputs": []
    },
    {
      "cell_type": "code",
      "source": [
        "compute_roc_auc(df_results, 'mcd')"
      ],
      "metadata": {
        "colab": {
          "base_uri": "https://localhost:8080/"
        },
        "id": "Ew1lb5Bp76Ea",
        "outputId": "75dbd081-69fc-4b7f-dfb2-5dcd409b76ce"
      },
      "execution_count": 14,
      "outputs": [
        {
          "output_type": "execute_result",
          "data": {
            "text/plain": [
              "0.9469724716446124"
            ]
          },
          "metadata": {},
          "execution_count": 14
        }
      ]
    },
    {
      "cell_type": "code",
      "source": [
        "compute_roc_auc(df_results, 'cov')"
      ],
      "metadata": {
        "colab": {
          "base_uri": "https://localhost:8080/"
        },
        "id": "T0LTh8rH79_A",
        "outputId": "d0a9c430-1cc7-487f-e618-132b2debc1ab"
      },
      "execution_count": 15,
      "outputs": [
        {
          "output_type": "execute_result",
          "data": {
            "text/plain": [
              "0.9253913634215502"
            ]
          },
          "metadata": {},
          "execution_count": 15
        }
      ]
    },
    {
      "cell_type": "code",
      "source": [
        "def get_threshold(df_results, method, fixed_fpr=0.1):\n",
        "  assert method=='mcd' or method=='cov'\n",
        "  if method=='mcd':\n",
        "    y_score = df_results['OL_mcd']\n",
        "    fpr_array, tpr_array, threshold_array = roc_curve(df_results['adversarial'],  df_results['OL_mcd'])\n",
        "  else:\n",
        "    y_score = df_results['OL_cov']\n",
        "    fpr_array, tpr_array, threshold_array = roc_curve(df_results['adversarial'],  df_results['OL_cov'])\n",
        "\n",
        "  i = 0\n",
        "  fpr = 0\n",
        "  while fpr<=fixed_fpr:\n",
        "    i+=1\n",
        "    fpr = fpr_array[i]\n",
        "\n",
        "  return threshold_array[i]"
      ],
      "metadata": {
        "id": "JRG3zDqk8BMg"
      },
      "execution_count": 16,
      "outputs": []
    },
    {
      "cell_type": "code",
      "source": [
        "get_threshold(df_results, 'mcd')"
      ],
      "metadata": {
        "colab": {
          "base_uri": "https://localhost:8080/"
        },
        "id": "RKt-kfbQ8sih",
        "outputId": "6a211d89-7d8f-4136-aa1e-4ce98e0fd03a"
      },
      "execution_count": 17,
      "outputs": [
        {
          "output_type": "execute_result",
          "data": {
            "text/plain": [
              "516.2912055798716"
            ]
          },
          "metadata": {},
          "execution_count": 17
        }
      ]
    },
    {
      "cell_type": "code",
      "source": [
        "from sklearn.metrics import f1_score\n",
        "\n",
        "def compute_f1_score(df_results, method, fixed_fpr=0.1):\n",
        "  threshold = get_threshold(df_results, method, fixed_fpr)\n",
        "  if method=='mcd':\n",
        "    y_pred = df_results['OL_mcd']>=threshold - 1e-99\n",
        "  else:\n",
        "    y_pred = df_results['OL_cov']>=threshold - 1e-99\n",
        "  return f1_score(df_results['adversarial'], y_pred)"
      ],
      "metadata": {
        "id": "FGP7Aq00-LoA"
      },
      "execution_count": 18,
      "outputs": []
    },
    {
      "cell_type": "code",
      "source": [
        "compute_f1_score(df_results, 'mcd')"
      ],
      "metadata": {
        "colab": {
          "base_uri": "https://localhost:8080/"
        },
        "id": "er3j9Qtu_Ed6",
        "outputId": "83f142e7-e749-4154-ee22-80932cefb828"
      },
      "execution_count": 19,
      "outputs": [
        {
          "output_type": "execute_result",
          "data": {
            "text/plain": [
              "0.8550437976829612"
            ]
          },
          "metadata": {},
          "execution_count": 19
        }
      ]
    },
    {
      "cell_type": "code",
      "source": [
        "compute_f1_score(df_results, 'cov')"
      ],
      "metadata": {
        "colab": {
          "base_uri": "https://localhost:8080/"
        },
        "id": "tq8HbeSv_R_N",
        "outputId": "60ba6ebf-8bbe-4dcd-f045-304494863133"
      },
      "execution_count": 20,
      "outputs": [
        {
          "output_type": "execute_result",
          "data": {
            "text/plain": [
              "0.8038984051978737"
            ]
          },
          "metadata": {},
          "execution_count": 20
        }
      ]
    },
    {
      "cell_type": "code",
      "source": [
        "from sklearn.metrics import recall_score\n",
        "\n",
        "def compute_recall_score(df_results, method, fixed_fpr=0.1):\n",
        "  threshold = get_threshold(df_results, method, fixed_fpr)\n",
        "  if method=='mcd':\n",
        "    y_pred = df_results['OL_mcd']>=threshold - 1e-99\n",
        "  else:\n",
        "    y_pred = df_results['OL_cov']>=threshold - 1e-99\n",
        "  return recall_score(df_results['adversarial'], y_pred)"
      ],
      "metadata": {
        "id": "ukMb2An2_44-"
      },
      "execution_count": 21,
      "outputs": []
    },
    {
      "cell_type": "code",
      "source": [
        "compute_recall_score(df_results, 'cov')"
      ],
      "metadata": {
        "colab": {
          "base_uri": "https://localhost:8080/"
        },
        "id": "kHv2J5vw__Si",
        "outputId": "dbe7b5b2-9c08-4cff-cc4c-ef0497ad73f6"
      },
      "execution_count": 22,
      "outputs": [
        {
          "output_type": "execute_result",
          "data": {
            "text/plain": [
              "0.7396739130434783"
            ]
          },
          "metadata": {},
          "execution_count": 22
        }
      ]
    },
    {
      "cell_type": "code",
      "source": [
        "compute_recall_score(df_results, 'mcd')"
      ],
      "metadata": {
        "id": "ueZhImRpADIL",
        "outputId": "b5fb8533-629a-413f-f837-073c3f58bb24",
        "colab": {
          "base_uri": "https://localhost:8080/"
        }
      },
      "execution_count": 23,
      "outputs": [
        {
          "output_type": "execute_result",
          "data": {
            "text/plain": [
              "0.8222826086956522"
            ]
          },
          "metadata": {},
          "execution_count": 23
        }
      ]
    }
  ]
}