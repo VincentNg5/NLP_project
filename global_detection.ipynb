{
  "nbformat": 4,
  "nbformat_minor": 0,
  "metadata": {
    "colab": {
      "provenance": [],
      "authorship_tag": "ABX9TyNCmuVuMLz+CgDOPO116zR4"
    },
    "kernelspec": {
      "name": "python3",
      "display_name": "Python 3"
    },
    "language_info": {
      "name": "python"
    }
  },
  "cells": [
    {
      "cell_type": "code",
      "execution_count": 1,
      "metadata": {
        "id": "GiIslFDxIJdB"
      },
      "outputs": [],
      "source": [
        "import pandas as pd\n",
        "import numpy as np\n",
        "from sklearn.decomposition import KernelPCA\n",
        "from sklearn.covariance import empirical_covariance, MinCovDet"
      ]
    },
    {
      "cell_type": "code",
      "source": [
        "# Directory for Colab (optional, use if running Colab)\n",
        "from google.colab import drive\n",
        "drive.mount('/content/gdrive/')"
      ],
      "metadata": {
        "colab": {
          "base_uri": "https://localhost:8080/"
        },
        "id": "FLgQLR5mIpq8",
        "outputId": "6be164ac-6151-4fad-d0a8-5f086d62be7f"
      },
      "execution_count": 2,
      "outputs": [
        {
          "output_type": "stream",
          "name": "stdout",
          "text": [
            "Drive already mounted at /content/gdrive/; to attempt to forcibly remount, call drive.mount(\"/content/gdrive/\", force_remount=True).\n"
          ]
        }
      ]
    },
    {
      "cell_type": "code",
      "source": [
        "import os\n",
        "os.chdir('/content/gdrive/MyDrive/NLP_project')"
      ],
      "metadata": {
        "id": "v0rZoHXsIr7t"
      },
      "execution_count": 3,
      "outputs": []
    },
    {
      "cell_type": "code",
      "source": [
        "!pwd"
      ],
      "metadata": {
        "colab": {
          "base_uri": "https://localhost:8080/"
        },
        "id": "JR6ERieNIvK5",
        "outputId": "7111eba6-ab96-4198-b1ae-ad54b75ce64b"
      },
      "execution_count": 4,
      "outputs": [
        {
          "output_type": "stream",
          "name": "stdout",
          "text": [
            "/content/gdrive/MyDrive/NLP_project\n"
          ]
        }
      ]
    },
    {
      "cell_type": "code",
      "source": [
        "transformers_list = ['bert', 'roberta']\n",
        "attacks_list = ['textfooler', 'pwws', 'bae', 'tf-adj']"
      ],
      "metadata": {
        "id": "0aYSwdr8JDNU"
      },
      "execution_count": 5,
      "outputs": []
    },
    {
      "cell_type": "code",
      "source": [
        "def load_data(transformers, attack):\n",
        "  '''Input : \n",
        "  transformers in {'bert', 'roberta'}\n",
        "  attack in {'textfooler', 'pwws', 'bae', 'tf-adj'}\n",
        "  Output : df_train, df_test, train_matrix, test_matrix'''\n",
        "\n",
        "  df_train = pd.read_pickle('pickle/imdb_train.pickle')\n",
        "\n",
        "  test_pickle_filename = 'pickle/imdb_' + transformers + '_test_' + attack + '.pickle'\n",
        "  df_test = pd.read_pickle(test_pickle_filename)\n",
        "\n",
        "  train_matrix_filename = 'embeddings/imdb_train_' + transformers + '_emb.npy'\n",
        "  train_matrix = np.load(train_matrix_filename)\n",
        "\n",
        "  test_matrix_filename = 'embeddings/imdb_' + transformers + '_test_' + attack + '_emb.npy'\n",
        "  test_matrix = np.load(test_matrix_filename)\n",
        "\n",
        "  return df_train, df_test, train_matrix, test_matrix"
      ],
      "metadata": {
        "id": "r1MIWj2FI93N"
      },
      "execution_count": 6,
      "outputs": []
    },
    {
      "cell_type": "code",
      "source": [
        "from detection import RDE_results"
      ],
      "metadata": {
        "id": "XTAORa0KP8Ml"
      },
      "execution_count": 7,
      "outputs": []
    },
    {
      "cell_type": "code",
      "source": [
        "for transformers in transformers_list:\n",
        "  for attack in attacks_list:\n",
        "    print('Working on', transformers, attack)\n",
        "    df_train, df_test, train_matrix, test_matrix = load_data(transformers, attack)\n",
        "    df_results = RDE_results(df_train, df_test, train_matrix, test_matrix)\n",
        "    results_filename = 'results/imdb_results_' + transformers + '_' + attack + '.pickle'\n",
        "    df_results.to_pickle(results_filename)\n",
        "    print(results_filename, 'successfully created')"
      ],
      "metadata": {
        "colab": {
          "base_uri": "https://localhost:8080/"
        },
        "id": "Ao0kftVyLC5r",
        "outputId": "b521f2a3-ad5c-4097-fe68-bf8334643f72"
      },
      "execution_count": 8,
      "outputs": [
        {
          "output_type": "stream",
          "name": "stdout",
          "text": [
            "Working on bert textfooler\n",
            "results/imdb_results_bert_textfooler.pickle successfully created\n",
            "Working on bert pwws\n",
            "results/imdb_results_bert_pwws.pickle successfully created\n",
            "Working on bert bae\n",
            "results/imdb_results_bert_bae.pickle successfully created\n",
            "Working on bert tf-adj\n",
            "results/imdb_results_bert_tf-adj.pickle successfully created\n",
            "Working on roberta textfooler\n",
            "results/imdb_results_roberta_textfooler.pickle successfully created\n",
            "Working on roberta pwws\n",
            "results/imdb_results_roberta_pwws.pickle successfully created\n",
            "Working on roberta bae\n",
            "results/imdb_results_roberta_bae.pickle successfully created\n",
            "Working on roberta tf-adj\n",
            "results/imdb_results_roberta_tf-adj.pickle successfully created\n"
          ]
        }
      ]
    }
  ]
}