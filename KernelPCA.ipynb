{
 "cells": [
  {
   "cell_type": "code",
   "execution_count": 13,
   "metadata": {},
   "outputs": [],
   "source": [
    "import numpy as np\n",
    "import pandas as pd\n",
    "from sklearn.decomposition import KernelPCA\n",
    "from sklearn.model_selection import train_test_split\n",
    "from sklearn.covariance import EmpiricalCovariance, MinCovDet"
   ]
  },
  {
   "cell_type": "code",
   "execution_count": null,
   "metadata": {},
   "outputs": [],
   "source": [
    "#Kernel PCA\n",
    "dataset=input('dataset')\n",
    "dataset_train, dataset_test=train_test_split(dataset, test_size=0.8)\n",
    "k_PCA=KernelPCA(kernel='rbf')\n",
    "fit=k_PCA.fit(dataset_train)\n",
    "Matrix_kPCA=k_PCA.inverse_transform(k_PCA.transform(dataset_test))"
   ]
  },
  {
   "cell_type": "code",
   "execution_count": null,
   "metadata": {},
   "outputs": [],
   "source": [
    "#Empirical Covariance\n",
    "cov=EmpiricalCovariance().fit(Matrix_kPCA)\n",
    "mcd=MinCovDet().fit(Matrix_kPCA)"
   ]
  }
 ],
 "metadata": {
  "kernelspec": {
   "display_name": "vscode",
   "language": "python",
   "name": "python3"
  },
  "language_info": {
   "codemirror_mode": {
    "name": "ipython",
    "version": 3
   },
   "file_extension": ".py",
   "mimetype": "text/x-python",
   "name": "python",
   "nbconvert_exporter": "python",
   "pygments_lexer": "ipython3",
   "version": "3.9.13"
  },
  "orig_nbformat": 4
 },
 "nbformat": 4,
 "nbformat_minor": 2
}
