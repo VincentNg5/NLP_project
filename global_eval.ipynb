{
  "nbformat": 4,
  "nbformat_minor": 0,
  "metadata": {
    "colab": {
      "provenance": [],
      "authorship_tag": "ABX9TyNypYv3MBIHhault8gM6SEz"
    },
    "kernelspec": {
      "name": "python3",
      "display_name": "Python 3"
    },
    "language_info": {
      "name": "python"
    }
  },
  "cells": [
    {
      "cell_type": "code",
      "execution_count": 1,
      "metadata": {
        "id": "BMVBclB4CAQ3"
      },
      "outputs": [],
      "source": [
        "import pandas as pd\n",
        "import numpy as np\n",
        "\n",
        "from sklearn.metrics import roc_auc_score, roc_curve, f1_score, recall_score"
      ]
    },
    {
      "cell_type": "code",
      "source": [
        "# Directory for Colab (optional, use if running Colab)\n",
        "from google.colab import drive\n",
        "drive.mount('/content/gdrive/')"
      ],
      "metadata": {
        "colab": {
          "base_uri": "https://localhost:8080/"
        },
        "id": "KMbwleqkCqmb",
        "outputId": "6f03da38-1bfd-4447-f922-380b4b67286e"
      },
      "execution_count": 2,
      "outputs": [
        {
          "output_type": "stream",
          "name": "stdout",
          "text": [
            "Drive already mounted at /content/gdrive/; to attempt to forcibly remount, call drive.mount(\"/content/gdrive/\", force_remount=True).\n"
          ]
        }
      ]
    },
    {
      "cell_type": "code",
      "source": [
        "import os\n",
        "os.chdir('/content/gdrive/MyDrive/NLP_project')"
      ],
      "metadata": {
        "id": "3gmqD36uCsvn"
      },
      "execution_count": 3,
      "outputs": []
    },
    {
      "cell_type": "code",
      "source": [
        "!pwd"
      ],
      "metadata": {
        "colab": {
          "base_uri": "https://localhost:8080/"
        },
        "id": "kFo0XdG3CvAT",
        "outputId": "3acbc3ec-e41c-4d17-fd29-09ff275c7e90"
      },
      "execution_count": 4,
      "outputs": [
        {
          "output_type": "stream",
          "name": "stdout",
          "text": [
            "/content/gdrive/MyDrive/NLP_project\n"
          ]
        }
      ]
    },
    {
      "cell_type": "code",
      "source": [
        "def path_results(transformers, attack):\n",
        "  results_filename = 'results/imdb_results_' + transformers + '_' + attack + '.pickle'\n",
        "  return results_filename"
      ],
      "metadata": {
        "id": "m7Os4J5lCaEA"
      },
      "execution_count": 5,
      "outputs": []
    },
    {
      "cell_type": "code",
      "source": [
        "def compute_roc_auc(df_results, method):\n",
        "  '''Input : df_results\n",
        "  method : 'mcd' or 'cov' '''\n",
        "  assert method=='mcd' or method=='cov'\n",
        "  if method=='mcd':\n",
        "    return roc_auc_score(df_results['adversarial'], df_results['OL_mcd'])\n",
        "  return roc_auc_score(df_results['adversarial'], df_results['OL_cov'])"
      ],
      "metadata": {
        "id": "xSmdC2ILC8HT"
      },
      "execution_count": 6,
      "outputs": []
    },
    {
      "cell_type": "code",
      "source": [
        "def get_threshold(df_results, method, fixed_fpr=0.1):\n",
        "  '''Input : df_results\n",
        "  method : 'mcd' or 'cov' \n",
        "  fixed_fpr: 0.1 as default to compute f1_score and recall'''\n",
        "  assert method=='mcd' or method=='cov'\n",
        "  if method=='mcd':\n",
        "    y_score = df_results['OL_mcd']\n",
        "    fpr_array, tpr_array, threshold_array = roc_curve(df_results['adversarial'],  df_results['OL_mcd'])\n",
        "  else:\n",
        "    y_score = df_results['OL_cov']\n",
        "    fpr_array, tpr_array, threshold_array = roc_curve(df_results['adversarial'],  df_results['OL_cov'])\n",
        "\n",
        "  i = 0\n",
        "  fpr = 0\n",
        "  while fpr<=fixed_fpr:\n",
        "    i+=1\n",
        "    fpr = fpr_array[i]\n",
        "\n",
        "  return threshold_array[i]"
      ],
      "metadata": {
        "id": "nCUPgaxLC-Th"
      },
      "execution_count": 7,
      "outputs": []
    },
    {
      "cell_type": "code",
      "source": [
        "def compute_f1_score(df_results, method, fixed_fpr=0.1):\n",
        "  threshold = get_threshold(df_results, method, fixed_fpr)\n",
        "  if method=='mcd':\n",
        "    y_pred = df_results['OL_mcd']>=threshold - 1e-99\n",
        "  else:\n",
        "    y_pred = df_results['OL_cov']>=threshold - 1e-99\n",
        "  return f1_score(df_results['adversarial'], y_pred)"
      ],
      "metadata": {
        "id": "eTk7A9sqDOek"
      },
      "execution_count": 8,
      "outputs": []
    },
    {
      "cell_type": "code",
      "source": [
        "def compute_recall_score(df_results, method, fixed_fpr=0.1):\n",
        "  threshold = get_threshold(df_results, method, fixed_fpr)\n",
        "  if method=='mcd':\n",
        "    y_pred = df_results['OL_mcd']>=threshold - 1e-99\n",
        "  else:\n",
        "    y_pred = df_results['OL_cov']>=threshold - 1e-99\n",
        "  return recall_score(df_results['adversarial'], y_pred)"
      ],
      "metadata": {
        "id": "vizJvroXDWvD"
      },
      "execution_count": 9,
      "outputs": []
    },
    {
      "cell_type": "code",
      "source": [
        "def compute_metrics(transformers, attack, method, fixed_fpr=0.1):\n",
        "  '''Input : \n",
        "  transformers in {'bert', 'roberta}\n",
        "  attack in {'textfooler', 'pwws', 'bae', 'tf-adj'}\n",
        "  method in {'mcd', 'cov'}\n",
        "  Output : list of 3 metrics : AUC, F1, recall'''\n",
        "  results_filename = path_results(transformers, attack)\n",
        "  df_results = pd.read_pickle(results_filename)\n",
        "\n",
        "  L = []\n",
        "  auc = compute_roc_auc(df_results, method)\n",
        "  L.append(auc)\n",
        "  f1_score = compute_f1_score(df_results, method, fixed_fpr)\n",
        "  L.append(f1_score)\n",
        "  recall_score = compute_recall_score(df_results, method, fixed_fpr)\n",
        "  L.append(recall_score)\n",
        "  return L"
      ],
      "metadata": {
        "id": "v7hA7OGQDYvr"
      },
      "execution_count": 10,
      "outputs": []
    },
    {
      "cell_type": "code",
      "source": [
        "def complete_results():\n",
        "  list_idx = []\n",
        "  metrics_matrix = []\n",
        "  \n",
        "  for transformers in ['bert', 'roberta']:\n",
        "    for attack in ['textfooler', 'pwws', 'bae', 'tf-adj']:\n",
        "      for method in ['mcd', 'cov']:\n",
        "        list_idx.append(transformers + '_' + attack + '_' + method)\n",
        "        metrics_matrix.append(compute_metrics(transformers, attack, method))\n",
        "  \n",
        "  df = pd.DataFrame(metrics_matrix, index=list_idx, columns=['AUC', 'F1', 'recall'])\n",
        "  return df"
      ],
      "metadata": {
        "id": "mBSGcno-Fhau"
      },
      "execution_count": 11,
      "outputs": []
    },
    {
      "cell_type": "code",
      "source": [
        "complete_results()"
      ],
      "metadata": {
        "colab": {
          "base_uri": "https://localhost:8080/",
          "height": 551
        },
        "id": "YAYo_gq6GkhP",
        "outputId": "257de289-1701-4dcf-b214-5a11427e9ffd"
      },
      "execution_count": 12,
      "outputs": [
        {
          "output_type": "execute_result",
          "data": {
            "text/plain": [
              "                             AUC        F1    recall\n",
              "bert_textfooler_mcd     0.946972  0.855044  0.822283\n",
              "bert_textfooler_cov     0.925391  0.803898  0.739674\n",
              "bert_pwws_mcd           0.943886  0.845557  0.806363\n",
              "bert_pwws_cov           0.921795  0.793383  0.723533\n",
              "bert_bae_mcd            0.928870  0.800000  0.733500\n",
              "bert_bae_cov            0.901882  0.729378  0.631579\n",
              "bert_tf-adj_mcd         0.923992  0.772636  0.693141\n",
              "bert_tf-adj_cov         0.878077  0.668122  0.552347\n",
              "roberta_textfooler_mcd  0.954453  0.882604  0.869154\n",
              "roberta_textfooler_cov  0.939360  0.856129  0.823962\n",
              "roberta_pwws_mcd        0.957896  0.889185  0.880739\n",
              "roberta_pwws_cov        0.941595  0.867463  0.842744\n",
              "roberta_bae_mcd         0.950483  0.873131  0.853184\n",
              "roberta_bae_cov         0.929955  0.831943  0.784270\n",
              "roberta_tf-adj_mcd      0.906127  0.766284  0.684932\n",
              "roberta_tf-adj_cov      0.878448  0.737255  0.643836"
            ],
            "text/html": [
              "\n",
              "  <div id=\"df-c598d14d-349d-4204-b34d-3772e3486646\">\n",
              "    <div class=\"colab-df-container\">\n",
              "      <div>\n",
              "<style scoped>\n",
              "    .dataframe tbody tr th:only-of-type {\n",
              "        vertical-align: middle;\n",
              "    }\n",
              "\n",
              "    .dataframe tbody tr th {\n",
              "        vertical-align: top;\n",
              "    }\n",
              "\n",
              "    .dataframe thead th {\n",
              "        text-align: right;\n",
              "    }\n",
              "</style>\n",
              "<table border=\"1\" class=\"dataframe\">\n",
              "  <thead>\n",
              "    <tr style=\"text-align: right;\">\n",
              "      <th></th>\n",
              "      <th>AUC</th>\n",
              "      <th>F1</th>\n",
              "      <th>recall</th>\n",
              "    </tr>\n",
              "  </thead>\n",
              "  <tbody>\n",
              "    <tr>\n",
              "      <th>bert_textfooler_mcd</th>\n",
              "      <td>0.946972</td>\n",
              "      <td>0.855044</td>\n",
              "      <td>0.822283</td>\n",
              "    </tr>\n",
              "    <tr>\n",
              "      <th>bert_textfooler_cov</th>\n",
              "      <td>0.925391</td>\n",
              "      <td>0.803898</td>\n",
              "      <td>0.739674</td>\n",
              "    </tr>\n",
              "    <tr>\n",
              "      <th>bert_pwws_mcd</th>\n",
              "      <td>0.943886</td>\n",
              "      <td>0.845557</td>\n",
              "      <td>0.806363</td>\n",
              "    </tr>\n",
              "    <tr>\n",
              "      <th>bert_pwws_cov</th>\n",
              "      <td>0.921795</td>\n",
              "      <td>0.793383</td>\n",
              "      <td>0.723533</td>\n",
              "    </tr>\n",
              "    <tr>\n",
              "      <th>bert_bae_mcd</th>\n",
              "      <td>0.928870</td>\n",
              "      <td>0.800000</td>\n",
              "      <td>0.733500</td>\n",
              "    </tr>\n",
              "    <tr>\n",
              "      <th>bert_bae_cov</th>\n",
              "      <td>0.901882</td>\n",
              "      <td>0.729378</td>\n",
              "      <td>0.631579</td>\n",
              "    </tr>\n",
              "    <tr>\n",
              "      <th>bert_tf-adj_mcd</th>\n",
              "      <td>0.923992</td>\n",
              "      <td>0.772636</td>\n",
              "      <td>0.693141</td>\n",
              "    </tr>\n",
              "    <tr>\n",
              "      <th>bert_tf-adj_cov</th>\n",
              "      <td>0.878077</td>\n",
              "      <td>0.668122</td>\n",
              "      <td>0.552347</td>\n",
              "    </tr>\n",
              "    <tr>\n",
              "      <th>roberta_textfooler_mcd</th>\n",
              "      <td>0.954453</td>\n",
              "      <td>0.882604</td>\n",
              "      <td>0.869154</td>\n",
              "    </tr>\n",
              "    <tr>\n",
              "      <th>roberta_textfooler_cov</th>\n",
              "      <td>0.939360</td>\n",
              "      <td>0.856129</td>\n",
              "      <td>0.823962</td>\n",
              "    </tr>\n",
              "    <tr>\n",
              "      <th>roberta_pwws_mcd</th>\n",
              "      <td>0.957896</td>\n",
              "      <td>0.889185</td>\n",
              "      <td>0.880739</td>\n",
              "    </tr>\n",
              "    <tr>\n",
              "      <th>roberta_pwws_cov</th>\n",
              "      <td>0.941595</td>\n",
              "      <td>0.867463</td>\n",
              "      <td>0.842744</td>\n",
              "    </tr>\n",
              "    <tr>\n",
              "      <th>roberta_bae_mcd</th>\n",
              "      <td>0.950483</td>\n",
              "      <td>0.873131</td>\n",
              "      <td>0.853184</td>\n",
              "    </tr>\n",
              "    <tr>\n",
              "      <th>roberta_bae_cov</th>\n",
              "      <td>0.929955</td>\n",
              "      <td>0.831943</td>\n",
              "      <td>0.784270</td>\n",
              "    </tr>\n",
              "    <tr>\n",
              "      <th>roberta_tf-adj_mcd</th>\n",
              "      <td>0.906127</td>\n",
              "      <td>0.766284</td>\n",
              "      <td>0.684932</td>\n",
              "    </tr>\n",
              "    <tr>\n",
              "      <th>roberta_tf-adj_cov</th>\n",
              "      <td>0.878448</td>\n",
              "      <td>0.737255</td>\n",
              "      <td>0.643836</td>\n",
              "    </tr>\n",
              "  </tbody>\n",
              "</table>\n",
              "</div>\n",
              "      <button class=\"colab-df-convert\" onclick=\"convertToInteractive('df-c598d14d-349d-4204-b34d-3772e3486646')\"\n",
              "              title=\"Convert this dataframe to an interactive table.\"\n",
              "              style=\"display:none;\">\n",
              "        \n",
              "  <svg xmlns=\"http://www.w3.org/2000/svg\" height=\"24px\"viewBox=\"0 0 24 24\"\n",
              "       width=\"24px\">\n",
              "    <path d=\"M0 0h24v24H0V0z\" fill=\"none\"/>\n",
              "    <path d=\"M18.56 5.44l.94 2.06.94-2.06 2.06-.94-2.06-.94-.94-2.06-.94 2.06-2.06.94zm-11 1L8.5 8.5l.94-2.06 2.06-.94-2.06-.94L8.5 2.5l-.94 2.06-2.06.94zm10 10l.94 2.06.94-2.06 2.06-.94-2.06-.94-.94-2.06-.94 2.06-2.06.94z\"/><path d=\"M17.41 7.96l-1.37-1.37c-.4-.4-.92-.59-1.43-.59-.52 0-1.04.2-1.43.59L10.3 9.45l-7.72 7.72c-.78.78-.78 2.05 0 2.83L4 21.41c.39.39.9.59 1.41.59.51 0 1.02-.2 1.41-.59l7.78-7.78 2.81-2.81c.8-.78.8-2.07 0-2.86zM5.41 20L4 18.59l7.72-7.72 1.47 1.35L5.41 20z\"/>\n",
              "  </svg>\n",
              "      </button>\n",
              "      \n",
              "  <style>\n",
              "    .colab-df-container {\n",
              "      display:flex;\n",
              "      flex-wrap:wrap;\n",
              "      gap: 12px;\n",
              "    }\n",
              "\n",
              "    .colab-df-convert {\n",
              "      background-color: #E8F0FE;\n",
              "      border: none;\n",
              "      border-radius: 50%;\n",
              "      cursor: pointer;\n",
              "      display: none;\n",
              "      fill: #1967D2;\n",
              "      height: 32px;\n",
              "      padding: 0 0 0 0;\n",
              "      width: 32px;\n",
              "    }\n",
              "\n",
              "    .colab-df-convert:hover {\n",
              "      background-color: #E2EBFA;\n",
              "      box-shadow: 0px 1px 2px rgba(60, 64, 67, 0.3), 0px 1px 3px 1px rgba(60, 64, 67, 0.15);\n",
              "      fill: #174EA6;\n",
              "    }\n",
              "\n",
              "    [theme=dark] .colab-df-convert {\n",
              "      background-color: #3B4455;\n",
              "      fill: #D2E3FC;\n",
              "    }\n",
              "\n",
              "    [theme=dark] .colab-df-convert:hover {\n",
              "      background-color: #434B5C;\n",
              "      box-shadow: 0px 1px 3px 1px rgba(0, 0, 0, 0.15);\n",
              "      filter: drop-shadow(0px 1px 2px rgba(0, 0, 0, 0.3));\n",
              "      fill: #FFFFFF;\n",
              "    }\n",
              "  </style>\n",
              "\n",
              "      <script>\n",
              "        const buttonEl =\n",
              "          document.querySelector('#df-c598d14d-349d-4204-b34d-3772e3486646 button.colab-df-convert');\n",
              "        buttonEl.style.display =\n",
              "          google.colab.kernel.accessAllowed ? 'block' : 'none';\n",
              "\n",
              "        async function convertToInteractive(key) {\n",
              "          const element = document.querySelector('#df-c598d14d-349d-4204-b34d-3772e3486646');\n",
              "          const dataTable =\n",
              "            await google.colab.kernel.invokeFunction('convertToInteractive',\n",
              "                                                     [key], {});\n",
              "          if (!dataTable) return;\n",
              "\n",
              "          const docLinkHtml = 'Like what you see? Visit the ' +\n",
              "            '<a target=\"_blank\" href=https://colab.research.google.com/notebooks/data_table.ipynb>data table notebook</a>'\n",
              "            + ' to learn more about interactive tables.';\n",
              "          element.innerHTML = '';\n",
              "          dataTable['output_type'] = 'display_data';\n",
              "          await google.colab.output.renderOutput(dataTable, element);\n",
              "          const docLink = document.createElement('div');\n",
              "          docLink.innerHTML = docLinkHtml;\n",
              "          element.appendChild(docLink);\n",
              "        }\n",
              "      </script>\n",
              "    </div>\n",
              "  </div>\n",
              "  "
            ]
          },
          "metadata": {},
          "execution_count": 12
        }
      ]
    }
  ]
}