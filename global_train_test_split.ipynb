{
  "nbformat": 4,
  "nbformat_minor": 0,
  "metadata": {
    "colab": {
      "provenance": [],
      "authorship_tag": "ABX9TyM+y5u1mVrMvjMrZr9OlLJr"
    },
    "kernelspec": {
      "name": "python3",
      "display_name": "Python 3"
    },
    "language_info": {
      "name": "python"
    }
  },
  "cells": [
    {
      "cell_type": "code",
      "source": [
        "import pandas as pd\n",
        "import numpy as np"
      ],
      "metadata": {
        "id": "e__hafCLWgS_"
      },
      "execution_count": 2,
      "outputs": []
    },
    {
      "cell_type": "code",
      "source": [
        "# Directory for Colab (optional, use if running Colab)\n",
        "from google.colab import drive\n",
        "drive.mount('/content/gdrive/')"
      ],
      "metadata": {
        "colab": {
          "base_uri": "https://localhost:8080/"
        },
        "id": "fS0O1GV_W0g2",
        "outputId": "6938ff26-2e46-408f-b462-7bfbe841866b"
      },
      "execution_count": 3,
      "outputs": [
        {
          "output_type": "stream",
          "name": "stdout",
          "text": [
            "Mounted at /content/gdrive/\n"
          ]
        }
      ]
    },
    {
      "cell_type": "code",
      "source": [
        "import os\n",
        "os.chdir('/content/gdrive/MyDrive/NLP_project')"
      ],
      "metadata": {
        "id": "iZNAROn2W51W"
      },
      "execution_count": 4,
      "outputs": []
    },
    {
      "cell_type": "code",
      "source": [
        "!pwd"
      ],
      "metadata": {
        "colab": {
          "base_uri": "https://localhost:8080/"
        },
        "id": "kJx9dFt3W7O4",
        "outputId": "10722c1c-d017-4c93-e5a5-4466811c8ed3"
      },
      "execution_count": 5,
      "outputs": [
        {
          "output_type": "stream",
          "name": "stdout",
          "text": [
            "/content/gdrive/MyDrive/NLP_project\n"
          ]
        }
      ]
    },
    {
      "cell_type": "code",
      "source": [
        "from train_test_split import generate_test_set"
      ],
      "metadata": {
        "id": "XmLajjAgW9YQ"
      },
      "execution_count": 6,
      "outputs": []
    },
    {
      "cell_type": "code",
      "execution_count": 7,
      "metadata": {
        "id": "fI2A8pTmWDE2"
      },
      "outputs": [],
      "source": [
        "list_transformers = ['bert', 'roberta']\n",
        "list_attack = ['textfooler', 'pwws', 'bae', 'tf-adj']"
      ]
    },
    {
      "cell_type": "code",
      "source": [
        "for transformers in list_transformers:\n",
        "  for attack in list_attack:\n",
        "    generate_test_set(transformers, attack)"
      ],
      "metadata": {
        "id": "clH_lnNTWjcT",
        "colab": {
          "base_uri": "https://localhost:8080/"
        },
        "outputId": "ca6f44a1-309f-44bf-e568-83dc4072350a"
      },
      "execution_count": 9,
      "outputs": [
        {
          "output_type": "stream",
          "name": "stdout",
          "text": [
            "Loading from data/imdb/bert/textfooler/bert-base-uncased-imdb_textfooler.csv\n",
            "pickle/imdb_bert_test_textfooler.pickle successfully created\n",
            "Loading from data/imdb/bert/pwws/bert-base-uncased-imdb_pwws.csv\n",
            "pickle/imdb_bert_test_pwws.pickle successfully created\n",
            "Loading from data/imdb/bert/bae/bert-base-uncased-imdb_bae.csv\n",
            "pickle/imdb_bert_test_bae.pickle successfully created\n",
            "Loading from data/imdb/bert/tf-adj/bert-base-uncased-imdb_tf-adj.csv\n",
            "pickle/imdb_bert_test_tf-adj.pickle successfully created\n",
            "Loading from data/imdb/roberta/textfooler/roberta-base-imdb_textfooler.csv\n",
            "pickle/imdb_roberta_test_textfooler.pickle successfully created\n",
            "Loading from data/imdb/roberta/pwws/roberta-base-imdb_pwws.csv\n",
            "pickle/imdb_roberta_test_pwws.pickle successfully created\n",
            "Loading from data/imdb/roberta/bae/roberta-base-imdb_bae.csv\n",
            "pickle/imdb_roberta_test_bae.pickle successfully created\n",
            "Loading from data/imdb/roberta/tf-adj/roberta-base-imdb_tf-adj.csv\n",
            "pickle/imdb_roberta_test_tf-adj.pickle successfully created\n"
          ]
        }
      ]
    },
    {
      "cell_type": "code",
      "source": [
        "df_roberta_pwws = pd.read_pickle('pickle/imdb_roberta_test_pwws.pickle')\n",
        "df_roberta_pwws"
      ],
      "metadata": {
        "colab": {
          "base_uri": "https://localhost:8080/",
          "height": 423
        },
        "id": "F_kXk-K1Y-ZR",
        "outputId": "a6d0b5e6-7bd6-48e0-fa29-bd54890a4ea7"
      },
      "execution_count": 10,
      "outputs": [
        {
          "output_type": "execute_result",
          "data": {
            "text/plain": [
              "                                                   text  adversarial\n",
              "3098  So, I'm wondering while watching this film, di...            1\n",
              "288   Although not a vainglorious Coen brothers fan,...            1\n",
              "1686  I am in a movie club at my school and I was fo...            1\n",
              "5350  The Three Stooges has always been some of the ...            1\n",
              "8615  (Possible ?? spoilers included, but nothing cr...            1\n",
              "...                                                 ...          ...\n",
              "2775  This movie was sooo bad. It wasn't even funny ...            0\n",
              "9334  Not only unique for its time but one of the gr...            0\n",
              "2709  Ever once in a while I run into a movie that i...            0\n",
              "7676  This picture doesn't have any big explosions o...            0\n",
              "779   This movie stunk. There is not much more to it...            0\n",
              "\n",
              "[3790 rows x 2 columns]"
            ],
            "text/html": [
              "\n",
              "  <div id=\"df-e80df5ec-7e83-4cbd-80d0-f1e943c8657c\">\n",
              "    <div class=\"colab-df-container\">\n",
              "      <div>\n",
              "<style scoped>\n",
              "    .dataframe tbody tr th:only-of-type {\n",
              "        vertical-align: middle;\n",
              "    }\n",
              "\n",
              "    .dataframe tbody tr th {\n",
              "        vertical-align: top;\n",
              "    }\n",
              "\n",
              "    .dataframe thead th {\n",
              "        text-align: right;\n",
              "    }\n",
              "</style>\n",
              "<table border=\"1\" class=\"dataframe\">\n",
              "  <thead>\n",
              "    <tr style=\"text-align: right;\">\n",
              "      <th></th>\n",
              "      <th>text</th>\n",
              "      <th>adversarial</th>\n",
              "    </tr>\n",
              "  </thead>\n",
              "  <tbody>\n",
              "    <tr>\n",
              "      <th>3098</th>\n",
              "      <td>So, I'm wondering while watching this film, di...</td>\n",
              "      <td>1</td>\n",
              "    </tr>\n",
              "    <tr>\n",
              "      <th>288</th>\n",
              "      <td>Although not a vainglorious Coen brothers fan,...</td>\n",
              "      <td>1</td>\n",
              "    </tr>\n",
              "    <tr>\n",
              "      <th>1686</th>\n",
              "      <td>I am in a movie club at my school and I was fo...</td>\n",
              "      <td>1</td>\n",
              "    </tr>\n",
              "    <tr>\n",
              "      <th>5350</th>\n",
              "      <td>The Three Stooges has always been some of the ...</td>\n",
              "      <td>1</td>\n",
              "    </tr>\n",
              "    <tr>\n",
              "      <th>8615</th>\n",
              "      <td>(Possible ?? spoilers included, but nothing cr...</td>\n",
              "      <td>1</td>\n",
              "    </tr>\n",
              "    <tr>\n",
              "      <th>...</th>\n",
              "      <td>...</td>\n",
              "      <td>...</td>\n",
              "    </tr>\n",
              "    <tr>\n",
              "      <th>2775</th>\n",
              "      <td>This movie was sooo bad. It wasn't even funny ...</td>\n",
              "      <td>0</td>\n",
              "    </tr>\n",
              "    <tr>\n",
              "      <th>9334</th>\n",
              "      <td>Not only unique for its time but one of the gr...</td>\n",
              "      <td>0</td>\n",
              "    </tr>\n",
              "    <tr>\n",
              "      <th>2709</th>\n",
              "      <td>Ever once in a while I run into a movie that i...</td>\n",
              "      <td>0</td>\n",
              "    </tr>\n",
              "    <tr>\n",
              "      <th>7676</th>\n",
              "      <td>This picture doesn't have any big explosions o...</td>\n",
              "      <td>0</td>\n",
              "    </tr>\n",
              "    <tr>\n",
              "      <th>779</th>\n",
              "      <td>This movie stunk. There is not much more to it...</td>\n",
              "      <td>0</td>\n",
              "    </tr>\n",
              "  </tbody>\n",
              "</table>\n",
              "<p>3790 rows × 2 columns</p>\n",
              "</div>\n",
              "      <button class=\"colab-df-convert\" onclick=\"convertToInteractive('df-e80df5ec-7e83-4cbd-80d0-f1e943c8657c')\"\n",
              "              title=\"Convert this dataframe to an interactive table.\"\n",
              "              style=\"display:none;\">\n",
              "        \n",
              "  <svg xmlns=\"http://www.w3.org/2000/svg\" height=\"24px\"viewBox=\"0 0 24 24\"\n",
              "       width=\"24px\">\n",
              "    <path d=\"M0 0h24v24H0V0z\" fill=\"none\"/>\n",
              "    <path d=\"M18.56 5.44l.94 2.06.94-2.06 2.06-.94-2.06-.94-.94-2.06-.94 2.06-2.06.94zm-11 1L8.5 8.5l.94-2.06 2.06-.94-2.06-.94L8.5 2.5l-.94 2.06-2.06.94zm10 10l.94 2.06.94-2.06 2.06-.94-2.06-.94-.94-2.06-.94 2.06-2.06.94z\"/><path d=\"M17.41 7.96l-1.37-1.37c-.4-.4-.92-.59-1.43-.59-.52 0-1.04.2-1.43.59L10.3 9.45l-7.72 7.72c-.78.78-.78 2.05 0 2.83L4 21.41c.39.39.9.59 1.41.59.51 0 1.02-.2 1.41-.59l7.78-7.78 2.81-2.81c.8-.78.8-2.07 0-2.86zM5.41 20L4 18.59l7.72-7.72 1.47 1.35L5.41 20z\"/>\n",
              "  </svg>\n",
              "      </button>\n",
              "      \n",
              "  <style>\n",
              "    .colab-df-container {\n",
              "      display:flex;\n",
              "      flex-wrap:wrap;\n",
              "      gap: 12px;\n",
              "    }\n",
              "\n",
              "    .colab-df-convert {\n",
              "      background-color: #E8F0FE;\n",
              "      border: none;\n",
              "      border-radius: 50%;\n",
              "      cursor: pointer;\n",
              "      display: none;\n",
              "      fill: #1967D2;\n",
              "      height: 32px;\n",
              "      padding: 0 0 0 0;\n",
              "      width: 32px;\n",
              "    }\n",
              "\n",
              "    .colab-df-convert:hover {\n",
              "      background-color: #E2EBFA;\n",
              "      box-shadow: 0px 1px 2px rgba(60, 64, 67, 0.3), 0px 1px 3px 1px rgba(60, 64, 67, 0.15);\n",
              "      fill: #174EA6;\n",
              "    }\n",
              "\n",
              "    [theme=dark] .colab-df-convert {\n",
              "      background-color: #3B4455;\n",
              "      fill: #D2E3FC;\n",
              "    }\n",
              "\n",
              "    [theme=dark] .colab-df-convert:hover {\n",
              "      background-color: #434B5C;\n",
              "      box-shadow: 0px 1px 3px 1px rgba(0, 0, 0, 0.15);\n",
              "      filter: drop-shadow(0px 1px 2px rgba(0, 0, 0, 0.3));\n",
              "      fill: #FFFFFF;\n",
              "    }\n",
              "  </style>\n",
              "\n",
              "      <script>\n",
              "        const buttonEl =\n",
              "          document.querySelector('#df-e80df5ec-7e83-4cbd-80d0-f1e943c8657c button.colab-df-convert');\n",
              "        buttonEl.style.display =\n",
              "          google.colab.kernel.accessAllowed ? 'block' : 'none';\n",
              "\n",
              "        async function convertToInteractive(key) {\n",
              "          const element = document.querySelector('#df-e80df5ec-7e83-4cbd-80d0-f1e943c8657c');\n",
              "          const dataTable =\n",
              "            await google.colab.kernel.invokeFunction('convertToInteractive',\n",
              "                                                     [key], {});\n",
              "          if (!dataTable) return;\n",
              "\n",
              "          const docLinkHtml = 'Like what you see? Visit the ' +\n",
              "            '<a target=\"_blank\" href=https://colab.research.google.com/notebooks/data_table.ipynb>data table notebook</a>'\n",
              "            + ' to learn more about interactive tables.';\n",
              "          element.innerHTML = '';\n",
              "          dataTable['output_type'] = 'display_data';\n",
              "          await google.colab.output.renderOutput(dataTable, element);\n",
              "          const docLink = document.createElement('div');\n",
              "          docLink.innerHTML = docLinkHtml;\n",
              "          element.appendChild(docLink);\n",
              "        }\n",
              "      </script>\n",
              "    </div>\n",
              "  </div>\n",
              "  "
            ]
          },
          "metadata": {},
          "execution_count": 10
        }
      ]
    },
    {
      "cell_type": "code",
      "source": [
        "df_roberta_pwws.adversarial.value_counts()"
      ],
      "metadata": {
        "colab": {
          "base_uri": "https://localhost:8080/"
        },
        "id": "FL-LbSJzapIC",
        "outputId": "0df34a14-8aee-49ac-b8ac-bd5ff4317129"
      },
      "execution_count": 11,
      "outputs": [
        {
          "output_type": "execute_result",
          "data": {
            "text/plain": [
              "1    1895\n",
              "0    1895\n",
              "Name: adversarial, dtype: int64"
            ]
          },
          "metadata": {},
          "execution_count": 11
        }
      ]
    }
  ]
}