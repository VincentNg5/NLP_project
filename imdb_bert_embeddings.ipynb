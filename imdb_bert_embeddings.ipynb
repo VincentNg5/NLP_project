{
  "nbformat": 4,
  "nbformat_minor": 0,
  "metadata": {
    "colab": {
      "provenance": [],
      "authorship_tag": "ABX9TyNFlOOrKB3Wn/bI9HlpjuLz"
    },
    "kernelspec": {
      "name": "python3",
      "display_name": "Python 3"
    },
    "language_info": {
      "name": "python"
    },
    "accelerator": "GPU",
    "gpuClass": "standard"
  },
  "cells": [
    {
      "cell_type": "code",
      "source": [
        "!pip install textattack[tensorflow]"
      ],
      "metadata": {
        "colab": {
          "base_uri": "https://localhost:8080/"
        },
        "id": "GLQ_gmMZZ2Lf",
        "outputId": "338a3c72-bcc3-4562-f61f-fadfc4ce87f0"
      },
      "execution_count": 1,
      "outputs": [
        {
          "output_type": "stream",
          "name": "stdout",
          "text": [
            "Looking in indexes: https://pypi.org/simple, https://us-python.pkg.dev/colab-wheels/public/simple/\n",
            "Requirement already satisfied: textattack[tensorflow] in /usr/local/lib/python3.9/dist-packages (0.3.8)\n",
            "Requirement already satisfied: word2number in /usr/local/lib/python3.9/dist-packages (from textattack[tensorflow]) (1.1)\n",
            "Requirement already satisfied: scipy>=1.4.1 in /usr/local/lib/python3.9/dist-packages (from textattack[tensorflow]) (1.10.1)\n",
            "Requirement already satisfied: filelock in /usr/local/lib/python3.9/dist-packages (from textattack[tensorflow]) (3.9.0)\n",
            "Requirement already satisfied: nltk in /usr/local/lib/python3.9/dist-packages (from textattack[tensorflow]) (3.7)\n",
            "Requirement already satisfied: datasets==2.4.0 in /usr/local/lib/python3.9/dist-packages (from textattack[tensorflow]) (2.4.0)\n",
            "Requirement already satisfied: click<8.1.0 in /usr/local/lib/python3.9/dist-packages (from textattack[tensorflow]) (8.0.4)\n",
            "Requirement already satisfied: more-itertools in /usr/local/lib/python3.9/dist-packages (from textattack[tensorflow]) (9.1.0)\n",
            "Requirement already satisfied: lru-dict in /usr/local/lib/python3.9/dist-packages (from textattack[tensorflow]) (1.1.8)\n",
            "Requirement already satisfied: transformers>=4.21.0 in /usr/local/lib/python3.9/dist-packages (from textattack[tensorflow]) (4.27.0)\n",
            "Requirement already satisfied: bert-score>=0.3.5 in /usr/local/lib/python3.9/dist-packages (from textattack[tensorflow]) (0.3.13)\n",
            "Requirement already satisfied: num2words in /usr/local/lib/python3.9/dist-packages (from textattack[tensorflow]) (0.5.12)\n",
            "Requirement already satisfied: pandas>=1.0.1 in /usr/local/lib/python3.9/dist-packages (from textattack[tensorflow]) (1.4.4)\n",
            "Requirement already satisfied: terminaltables in /usr/local/lib/python3.9/dist-packages (from textattack[tensorflow]) (3.1.10)\n",
            "Requirement already satisfied: torch!=1.8,>=1.7.0 in /usr/local/lib/python3.9/dist-packages (from textattack[tensorflow]) (1.13.1+cu116)\n",
            "Requirement already satisfied: pycld2 in /usr/local/lib/python3.9/dist-packages (from textattack[tensorflow]) (0.41)\n",
            "Requirement already satisfied: language-tool-python in /usr/local/lib/python3.9/dist-packages (from textattack[tensorflow]) (2.7.1)\n",
            "Requirement already satisfied: jieba in /usr/local/lib/python3.9/dist-packages (from textattack[tensorflow]) (0.42.1)\n",
            "Requirement already satisfied: tqdm in /usr/local/lib/python3.9/dist-packages (from textattack[tensorflow]) (4.65.0)\n",
            "Requirement already satisfied: flair in /usr/local/lib/python3.9/dist-packages (from textattack[tensorflow]) (0.11.3)\n",
            "Requirement already satisfied: numpy>=1.21.0 in /usr/local/lib/python3.9/dist-packages (from textattack[tensorflow]) (1.22.4)\n",
            "Requirement already satisfied: PySocks!=1.5.7,>=1.5.6 in /usr/local/lib/python3.9/dist-packages (from textattack[tensorflow]) (1.7.1)\n",
            "Requirement already satisfied: pinyin==0.4.0 in /usr/local/lib/python3.9/dist-packages (from textattack[tensorflow]) (0.4.0)\n",
            "Requirement already satisfied: lemminflect in /usr/local/lib/python3.9/dist-packages (from textattack[tensorflow]) (0.2.3)\n",
            "Requirement already satisfied: editdistance in /usr/local/lib/python3.9/dist-packages (from textattack[tensorflow]) (0.5.3)\n",
            "Requirement already satisfied: OpenHowNet in /usr/local/lib/python3.9/dist-packages (from textattack[tensorflow]) (2.0)\n",
            "Requirement already satisfied: tensorflow-hub in /usr/local/lib/python3.9/dist-packages (from textattack[tensorflow]) (0.12.0)\n",
            "Requirement already satisfied: tensorflow==2.9.1 in /usr/local/lib/python3.9/dist-packages (from textattack[tensorflow]) (2.9.1)\n",
            "Requirement already satisfied: tensorflow-estimator==2.9.0 in /usr/local/lib/python3.9/dist-packages (from textattack[tensorflow]) (2.9.0)\n",
            "Requirement already satisfied: tensorflow-text>=2 in /usr/local/lib/python3.9/dist-packages (from textattack[tensorflow]) (2.9.0)\n",
            "Requirement already satisfied: tensorboardX in /usr/local/lib/python3.9/dist-packages (from textattack[tensorflow]) (2.6)\n",
            "Requirement already satisfied: multiprocess in /usr/local/lib/python3.9/dist-packages (from datasets==2.4.0->textattack[tensorflow]) (0.70.13)\n",
            "Requirement already satisfied: fsspec[http]>=2021.11.1 in /usr/local/lib/python3.9/dist-packages (from datasets==2.4.0->textattack[tensorflow]) (2023.3.0)\n",
            "Requirement already satisfied: requests>=2.19.0 in /usr/local/lib/python3.9/dist-packages (from datasets==2.4.0->textattack[tensorflow]) (2.25.1)\n",
            "Requirement already satisfied: aiohttp in /usr/local/lib/python3.9/dist-packages (from datasets==2.4.0->textattack[tensorflow]) (3.8.4)\n",
            "Requirement already satisfied: packaging in /usr/local/lib/python3.9/dist-packages (from datasets==2.4.0->textattack[tensorflow]) (23.0)\n",
            "Requirement already satisfied: xxhash in /usr/local/lib/python3.9/dist-packages (from datasets==2.4.0->textattack[tensorflow]) (3.2.0)\n",
            "Requirement already satisfied: dill<0.3.6 in /usr/local/lib/python3.9/dist-packages (from datasets==2.4.0->textattack[tensorflow]) (0.3.5.1)\n",
            "Requirement already satisfied: huggingface-hub<1.0.0,>=0.1.0 in /usr/local/lib/python3.9/dist-packages (from datasets==2.4.0->textattack[tensorflow]) (0.13.2)\n",
            "Requirement already satisfied: responses<0.19 in /usr/local/lib/python3.9/dist-packages (from datasets==2.4.0->textattack[tensorflow]) (0.18.0)\n",
            "Requirement already satisfied: pyarrow>=6.0.0 in /usr/local/lib/python3.9/dist-packages (from datasets==2.4.0->textattack[tensorflow]) (9.0.0)\n",
            "Requirement already satisfied: libclang>=13.0.0 in /usr/local/lib/python3.9/dist-packages (from tensorflow==2.9.1->textattack[tensorflow]) (15.0.6.1)\n",
            "Requirement already satisfied: opt-einsum>=2.3.2 in /usr/local/lib/python3.9/dist-packages (from tensorflow==2.9.1->textattack[tensorflow]) (3.3.0)\n",
            "Requirement already satisfied: setuptools in /usr/local/lib/python3.9/dist-packages (from tensorflow==2.9.1->textattack[tensorflow]) (63.4.3)\n",
            "Requirement already satisfied: astunparse>=1.6.0 in /usr/local/lib/python3.9/dist-packages (from tensorflow==2.9.1->textattack[tensorflow]) (1.6.3)\n",
            "Requirement already satisfied: h5py>=2.9.0 in /usr/local/lib/python3.9/dist-packages (from tensorflow==2.9.1->textattack[tensorflow]) (3.1.0)\n",
            "Requirement already satisfied: grpcio<2.0,>=1.24.3 in /usr/local/lib/python3.9/dist-packages (from tensorflow==2.9.1->textattack[tensorflow]) (1.51.3)\n",
            "Requirement already satisfied: typing-extensions>=3.6.6 in /usr/local/lib/python3.9/dist-packages (from tensorflow==2.9.1->textattack[tensorflow]) (4.5.0)\n",
            "Requirement already satisfied: gast<=0.4.0,>=0.2.1 in /usr/local/lib/python3.9/dist-packages (from tensorflow==2.9.1->textattack[tensorflow]) (0.4.0)\n",
            "Requirement already satisfied: flatbuffers<2,>=1.12 in /usr/local/lib/python3.9/dist-packages (from tensorflow==2.9.1->textattack[tensorflow]) (1.12)\n",
            "Requirement already satisfied: google-pasta>=0.1.1 in /usr/local/lib/python3.9/dist-packages (from tensorflow==2.9.1->textattack[tensorflow]) (0.2.0)\n",
            "Requirement already satisfied: wrapt>=1.11.0 in /usr/local/lib/python3.9/dist-packages (from tensorflow==2.9.1->textattack[tensorflow]) (1.15.0)\n",
            "Requirement already satisfied: keras-preprocessing>=1.1.1 in /usr/local/lib/python3.9/dist-packages (from tensorflow==2.9.1->textattack[tensorflow]) (1.1.2)\n",
            "Requirement already satisfied: protobuf<3.20,>=3.9.2 in /usr/local/lib/python3.9/dist-packages (from tensorflow==2.9.1->textattack[tensorflow]) (3.19.6)\n",
            "Requirement already satisfied: absl-py>=1.0.0 in /usr/local/lib/python3.9/dist-packages (from tensorflow==2.9.1->textattack[tensorflow]) (1.4.0)\n",
            "Requirement already satisfied: keras<2.10.0,>=2.9.0rc0 in /usr/local/lib/python3.9/dist-packages (from tensorflow==2.9.1->textattack[tensorflow]) (2.9.0)\n",
            "Requirement already satisfied: termcolor>=1.1.0 in /usr/local/lib/python3.9/dist-packages (from tensorflow==2.9.1->textattack[tensorflow]) (2.2.0)\n",
            "Requirement already satisfied: tensorflow-io-gcs-filesystem>=0.23.1 in /usr/local/lib/python3.9/dist-packages (from tensorflow==2.9.1->textattack[tensorflow]) (0.31.0)\n",
            "Requirement already satisfied: tensorboard<2.10,>=2.9 in /usr/local/lib/python3.9/dist-packages (from tensorflow==2.9.1->textattack[tensorflow]) (2.9.1)\n",
            "Requirement already satisfied: six>=1.12.0 in /usr/local/lib/python3.9/dist-packages (from tensorflow==2.9.1->textattack[tensorflow]) (1.15.0)\n",
            "Requirement already satisfied: matplotlib in /usr/local/lib/python3.9/dist-packages (from bert-score>=0.3.5->textattack[tensorflow]) (3.5.3)\n",
            "Requirement already satisfied: pytz>=2020.1 in /usr/local/lib/python3.9/dist-packages (from pandas>=1.0.1->textattack[tensorflow]) (2022.7.1)\n",
            "Requirement already satisfied: python-dateutil>=2.8.1 in /usr/local/lib/python3.9/dist-packages (from pandas>=1.0.1->textattack[tensorflow]) (2.8.2)\n",
            "Requirement already satisfied: regex!=2019.12.17 in /usr/local/lib/python3.9/dist-packages (from transformers>=4.21.0->textattack[tensorflow]) (2022.6.2)\n",
            "Requirement already satisfied: tokenizers!=0.11.3,<0.14,>=0.11.1 in /usr/local/lib/python3.9/dist-packages (from transformers>=4.21.0->textattack[tensorflow]) (0.13.2)\n",
            "Requirement already satisfied: pyyaml>=5.1 in /usr/local/lib/python3.9/dist-packages (from transformers>=4.21.0->textattack[tensorflow]) (6.0)\n",
            "Requirement already satisfied: konoha<5.0.0,>=4.0.0 in /usr/local/lib/python3.9/dist-packages (from flair->textattack[tensorflow]) (4.6.5)\n",
            "Requirement already satisfied: janome in /usr/local/lib/python3.9/dist-packages (from flair->textattack[tensorflow]) (0.4.2)\n",
            "Requirement already satisfied: pptree in /usr/local/lib/python3.9/dist-packages (from flair->textattack[tensorflow]) (3.1)\n",
            "Requirement already satisfied: mpld3==0.3 in /usr/local/lib/python3.9/dist-packages (from flair->textattack[tensorflow]) (0.3)\n",
            "Requirement already satisfied: lxml in /usr/local/lib/python3.9/dist-packages (from flair->textattack[tensorflow]) (4.9.2)\n",
            "Requirement already satisfied: tabulate in /usr/local/lib/python3.9/dist-packages (from flair->textattack[tensorflow]) (0.8.10)\n",
            "Requirement already satisfied: ftfy in /usr/local/lib/python3.9/dist-packages (from flair->textattack[tensorflow]) (6.1.1)\n",
            "Requirement already satisfied: sentencepiece==0.1.95 in /usr/local/lib/python3.9/dist-packages (from flair->textattack[tensorflow]) (0.1.95)\n",
            "Requirement already satisfied: scikit-learn>=0.21.3 in /usr/local/lib/python3.9/dist-packages (from flair->textattack[tensorflow]) (1.2.2)\n",
            "Requirement already satisfied: bpemb>=0.3.2 in /usr/local/lib/python3.9/dist-packages (from flair->textattack[tensorflow]) (0.3.4)\n",
            "Requirement already satisfied: hyperopt>=0.2.7 in /usr/local/lib/python3.9/dist-packages (from flair->textattack[tensorflow]) (0.2.7)\n",
            "Requirement already satisfied: gdown==4.4.0 in /usr/local/lib/python3.9/dist-packages (from flair->textattack[tensorflow]) (4.4.0)\n",
            "Requirement already satisfied: sqlitedict>=1.6.0 in /usr/local/lib/python3.9/dist-packages (from flair->textattack[tensorflow]) (2.1.0)\n",
            "Requirement already satisfied: segtok>=1.5.7 in /usr/local/lib/python3.9/dist-packages (from flair->textattack[tensorflow]) (1.5.11)\n",
            "Requirement already satisfied: deprecated>=1.2.4 in /usr/local/lib/python3.9/dist-packages (from flair->textattack[tensorflow]) (1.2.13)\n",
            "Requirement already satisfied: gensim>=3.4.0 in /usr/local/lib/python3.9/dist-packages (from flair->textattack[tensorflow]) (3.6.0)\n",
            "Requirement already satisfied: conllu>=4.0 in /usr/local/lib/python3.9/dist-packages (from flair->textattack[tensorflow]) (4.5.2)\n",
            "Requirement already satisfied: wikipedia-api in /usr/local/lib/python3.9/dist-packages (from flair->textattack[tensorflow]) (0.5.8)\n",
            "Requirement already satisfied: langdetect in /usr/local/lib/python3.9/dist-packages (from flair->textattack[tensorflow]) (1.0.9)\n",
            "Requirement already satisfied: beautifulsoup4 in /usr/local/lib/python3.9/dist-packages (from gdown==4.4.0->flair->textattack[tensorflow]) (4.9.3)\n",
            "Requirement already satisfied: joblib in /usr/local/lib/python3.9/dist-packages (from nltk->textattack[tensorflow]) (1.1.1)\n",
            "Requirement already satisfied: docopt>=0.6.2 in /usr/local/lib/python3.9/dist-packages (from num2words->textattack[tensorflow]) (0.6.2)\n",
            "Requirement already satisfied: anytree in /usr/local/lib/python3.9/dist-packages (from OpenHowNet->textattack[tensorflow]) (2.8.0)\n",
            "Requirement already satisfied: wheel<1.0,>=0.23.0 in /usr/local/lib/python3.9/dist-packages (from astunparse>=1.6.0->tensorflow==2.9.1->textattack[tensorflow]) (0.38.4)\n",
            "Requirement already satisfied: yarl<2.0,>=1.0 in /usr/local/lib/python3.9/dist-packages (from aiohttp->datasets==2.4.0->textattack[tensorflow]) (1.8.2)\n",
            "Requirement already satisfied: aiosignal>=1.1.2 in /usr/local/lib/python3.9/dist-packages (from aiohttp->datasets==2.4.0->textattack[tensorflow]) (1.3.1)\n",
            "Requirement already satisfied: async-timeout<5.0,>=4.0.0a3 in /usr/local/lib/python3.9/dist-packages (from aiohttp->datasets==2.4.0->textattack[tensorflow]) (4.0.2)\n",
            "Requirement already satisfied: charset-normalizer<4.0,>=2.0 in /usr/local/lib/python3.9/dist-packages (from aiohttp->datasets==2.4.0->textattack[tensorflow]) (3.1.0)\n",
            "Requirement already satisfied: attrs>=17.3.0 in /usr/local/lib/python3.9/dist-packages (from aiohttp->datasets==2.4.0->textattack[tensorflow]) (22.2.0)\n",
            "Requirement already satisfied: frozenlist>=1.1.1 in /usr/local/lib/python3.9/dist-packages (from aiohttp->datasets==2.4.0->textattack[tensorflow]) (1.3.3)\n",
            "Requirement already satisfied: multidict<7.0,>=4.5 in /usr/local/lib/python3.9/dist-packages (from aiohttp->datasets==2.4.0->textattack[tensorflow]) (6.0.4)\n",
            "Requirement already satisfied: smart-open>=1.2.1 in /usr/local/lib/python3.9/dist-packages (from gensim>=3.4.0->flair->textattack[tensorflow]) (6.3.0)\n",
            "Requirement already satisfied: future in /usr/local/lib/python3.9/dist-packages (from hyperopt>=0.2.7->flair->textattack[tensorflow]) (0.16.0)\n",
            "Requirement already satisfied: networkx>=2.2 in /usr/local/lib/python3.9/dist-packages (from hyperopt>=0.2.7->flair->textattack[tensorflow]) (3.0)\n",
            "Requirement already satisfied: cloudpickle in /usr/local/lib/python3.9/dist-packages (from hyperopt>=0.2.7->flair->textattack[tensorflow]) (2.2.1)\n",
            "Requirement already satisfied: py4j in /usr/local/lib/python3.9/dist-packages (from hyperopt>=0.2.7->flair->textattack[tensorflow]) (0.10.9.7)\n",
            "Requirement already satisfied: overrides<4.0.0,>=3.0.0 in /usr/local/lib/python3.9/dist-packages (from konoha<5.0.0,>=4.0.0->flair->textattack[tensorflow]) (3.1.0)\n",
            "Requirement already satisfied: importlib-metadata<4.0.0,>=3.7.0 in /usr/local/lib/python3.9/dist-packages (from konoha<5.0.0,>=4.0.0->flair->textattack[tensorflow]) (3.10.1)\n",
            "Requirement already satisfied: cycler>=0.10 in /usr/local/lib/python3.9/dist-packages (from matplotlib->bert-score>=0.3.5->textattack[tensorflow]) (0.11.0)\n",
            "Requirement already satisfied: pyparsing>=2.2.1 in /usr/local/lib/python3.9/dist-packages (from matplotlib->bert-score>=0.3.5->textattack[tensorflow]) (3.0.9)\n",
            "Requirement already satisfied: fonttools>=4.22.0 in /usr/local/lib/python3.9/dist-packages (from matplotlib->bert-score>=0.3.5->textattack[tensorflow]) (4.39.0)\n",
            "Requirement already satisfied: kiwisolver>=1.0.1 in /usr/local/lib/python3.9/dist-packages (from matplotlib->bert-score>=0.3.5->textattack[tensorflow]) (1.4.4)\n",
            "Requirement already satisfied: pillow>=6.2.0 in /usr/local/lib/python3.9/dist-packages (from matplotlib->bert-score>=0.3.5->textattack[tensorflow]) (8.4.0)\n",
            "Requirement already satisfied: chardet<5,>=3.0.2 in /usr/local/lib/python3.9/dist-packages (from requests>=2.19.0->datasets==2.4.0->textattack[tensorflow]) (4.0.0)\n",
            "Requirement already satisfied: idna<3,>=2.5 in /usr/local/lib/python3.9/dist-packages (from requests>=2.19.0->datasets==2.4.0->textattack[tensorflow]) (2.10)\n",
            "Requirement already satisfied: certifi>=2017.4.17 in /usr/local/lib/python3.9/dist-packages (from requests>=2.19.0->datasets==2.4.0->textattack[tensorflow]) (2022.12.7)\n",
            "Requirement already satisfied: urllib3<1.27,>=1.21.1 in /usr/local/lib/python3.9/dist-packages (from requests>=2.19.0->datasets==2.4.0->textattack[tensorflow]) (1.26.15)\n",
            "Requirement already satisfied: threadpoolctl>=2.0.0 in /usr/local/lib/python3.9/dist-packages (from scikit-learn>=0.21.3->flair->textattack[tensorflow]) (3.1.0)\n",
            "Requirement already satisfied: google-auth-oauthlib<0.5,>=0.4.1 in /usr/local/lib/python3.9/dist-packages (from tensorboard<2.10,>=2.9->tensorflow==2.9.1->textattack[tensorflow]) (0.4.6)\n",
            "Requirement already satisfied: markdown>=2.6.8 in /usr/local/lib/python3.9/dist-packages (from tensorboard<2.10,>=2.9->tensorflow==2.9.1->textattack[tensorflow]) (3.3.4)\n",
            "Requirement already satisfied: werkzeug>=1.0.1 in /usr/local/lib/python3.9/dist-packages (from tensorboard<2.10,>=2.9->tensorflow==2.9.1->textattack[tensorflow]) (2.2.3)\n",
            "Requirement already satisfied: google-auth<3,>=1.6.3 in /usr/local/lib/python3.9/dist-packages (from tensorboard<2.10,>=2.9->tensorflow==2.9.1->textattack[tensorflow]) (2.16.2)\n",
            "Requirement already satisfied: tensorboard-data-server<0.7.0,>=0.6.0 in /usr/local/lib/python3.9/dist-packages (from tensorboard<2.10,>=2.9->tensorflow==2.9.1->textattack[tensorflow]) (0.6.1)\n",
            "Requirement already satisfied: tensorboard-plugin-wit>=1.6.0 in /usr/local/lib/python3.9/dist-packages (from tensorboard<2.10,>=2.9->tensorflow==2.9.1->textattack[tensorflow]) (1.8.1)\n",
            "Requirement already satisfied: wcwidth>=0.2.5 in /usr/local/lib/python3.9/dist-packages (from ftfy->flair->textattack[tensorflow]) (0.2.6)\n",
            "Requirement already satisfied: pyasn1-modules>=0.2.1 in /usr/local/lib/python3.9/dist-packages (from google-auth<3,>=1.6.3->tensorboard<2.10,>=2.9->tensorflow==2.9.1->textattack[tensorflow]) (0.2.8)\n",
            "Requirement already satisfied: cachetools<6.0,>=2.0.0 in /usr/local/lib/python3.9/dist-packages (from google-auth<3,>=1.6.3->tensorboard<2.10,>=2.9->tensorflow==2.9.1->textattack[tensorflow]) (5.3.0)\n",
            "Requirement already satisfied: rsa<5,>=3.1.4 in /usr/local/lib/python3.9/dist-packages (from google-auth<3,>=1.6.3->tensorboard<2.10,>=2.9->tensorflow==2.9.1->textattack[tensorflow]) (4.9)\n",
            "Requirement already satisfied: requests-oauthlib>=0.7.0 in /usr/local/lib/python3.9/dist-packages (from google-auth-oauthlib<0.5,>=0.4.1->tensorboard<2.10,>=2.9->tensorflow==2.9.1->textattack[tensorflow]) (1.3.1)\n",
            "Requirement already satisfied: zipp>=0.5 in /usr/local/lib/python3.9/dist-packages (from importlib-metadata<4.0.0,>=3.7.0->konoha<5.0.0,>=4.0.0->flair->textattack[tensorflow]) (3.15.0)\n",
            "Requirement already satisfied: MarkupSafe>=2.1.1 in /usr/local/lib/python3.9/dist-packages (from werkzeug>=1.0.1->tensorboard<2.10,>=2.9->tensorflow==2.9.1->textattack[tensorflow]) (2.1.2)\n",
            "Requirement already satisfied: soupsieve>1.2 in /usr/local/lib/python3.9/dist-packages (from beautifulsoup4->gdown==4.4.0->flair->textattack[tensorflow]) (2.4)\n",
            "Requirement already satisfied: pyasn1<0.5.0,>=0.4.6 in /usr/local/lib/python3.9/dist-packages (from pyasn1-modules>=0.2.1->google-auth<3,>=1.6.3->tensorboard<2.10,>=2.9->tensorflow==2.9.1->textattack[tensorflow]) (0.4.8)\n",
            "Requirement already satisfied: oauthlib>=3.0.0 in /usr/local/lib/python3.9/dist-packages (from requests-oauthlib>=0.7.0->google-auth-oauthlib<0.5,>=0.4.1->tensorboard<2.10,>=2.9->tensorflow==2.9.1->textattack[tensorflow]) (3.2.2)\n"
          ]
        }
      ]
    },
    {
      "cell_type": "code",
      "source": [
        "# Directory for Colab (optional, use if running Colab)\n",
        "from google.colab import drive\n",
        "drive.mount('/content/gdrive/')"
      ],
      "metadata": {
        "colab": {
          "base_uri": "https://localhost:8080/"
        },
        "id": "neThmDrhi2c7",
        "outputId": "d047bcff-5f52-4ce4-ef87-71d9a88a3a2e"
      },
      "execution_count": 2,
      "outputs": [
        {
          "output_type": "stream",
          "name": "stdout",
          "text": [
            "Drive already mounted at /content/gdrive/; to attempt to forcibly remount, call drive.mount(\"/content/gdrive/\", force_remount=True).\n"
          ]
        }
      ]
    },
    {
      "cell_type": "code",
      "source": [
        "import os\n",
        "os.chdir('/content/gdrive/MyDrive/NLP_project')"
      ],
      "metadata": {
        "id": "TFqe_r3ejGNj"
      },
      "execution_count": 3,
      "outputs": []
    },
    {
      "cell_type": "code",
      "source": [
        "!pwd"
      ],
      "metadata": {
        "colab": {
          "base_uri": "https://localhost:8080/"
        },
        "id": "tIP3He7RjNZm",
        "outputId": "986757fd-ec5f-4bc8-e422-cc9a0bfbea7c"
      },
      "execution_count": 4,
      "outputs": [
        {
          "output_type": "stream",
          "name": "stdout",
          "text": [
            "/content/gdrive/MyDrive/NLP_project\n"
          ]
        }
      ]
    },
    {
      "cell_type": "code",
      "source": [
        "import pandas as pd\n",
        "text_train = pd.read_pickle(\"pickle/imdb_bert_train.pickle\")\n",
        "text_train"
      ],
      "metadata": {
        "id": "KmVdEdqujPBz",
        "colab": {
          "base_uri": "https://localhost:8080/"
        },
        "outputId": "4d84325a-e645-4043-9da9-77ea47bb150a"
      },
      "execution_count": 5,
      "outputs": [
        {
          "output_type": "execute_result",
          "data": {
            "text/plain": [
              "3264    This is the second British Rank film to adapt ...\n",
              "3453    This movie features an o.k. score and a not ba...\n",
              "2632    I don't know why, but for some sick reason, I ...\n",
              "6825    A well-intentioned movie about Sonja Horowitz ...\n",
              "4087    The plot was dull, the girls were sickening an...\n",
              "                              ...                        \n",
              "7975    Sitting down to watch the 14th season of the B...\n",
              "7751    Journey to the Center of the Earth is the stor...\n",
              "2606    Almost every plot detail in this movie is illo...\n",
              "7394    It makes the actors in Hollyoaks look like the...\n",
              "3908    Where do I start? Per the title of this film I...\n",
              "Length: 8000, dtype: object"
            ]
          },
          "metadata": {},
          "execution_count": 5
        }
      ]
    },
    {
      "cell_type": "code",
      "source": [
        "df_test = pd.read_pickle(\"pickle/imdb_bert_test_textfooler.pickle\")\n",
        "df_test"
      ],
      "metadata": {
        "colab": {
          "base_uri": "https://localhost:8080/",
          "height": 423
        },
        "id": "kPZvIF0Naqwd",
        "outputId": "ecda9ced-05d8-4452-d0fa-782004e4ef79"
      },
      "execution_count": 6,
      "outputs": [
        {
          "output_type": "execute_result",
          "data": {
            "text/plain": [
              "                                                   text  adversarial\n",
              "3098  So, I'm wondering while watching this film, di...            1\n",
              "288   Although not a big Coen brothers fan, me am an...            1\n",
              "1686  me am in a theatres nightclubs at my pupil and...            1\n",
              "5350  The Thirdly Stooges enjoys always been some of...            1\n",
              "8615  (Possible ?? spoilers included, but nothing cr...            1\n",
              "...                                                 ...          ...\n",
              "7552  When Melville's \"Pierre; or The Ambiguities\" h...            0\n",
              "634   This movie is funny if you're the gentleman wh...            0\n",
              "3723  Snakes on a Train is a movie I rented due to t...            0\n",
              "7751  Should we take the opening shot as a strange f...            0\n",
              "2606  A friend and I went to see this movie. We have...            0\n",
              "\n",
              "[10000 rows x 2 columns]"
            ],
            "text/html": [
              "\n",
              "  <div id=\"df-92953d87-5288-476e-9c21-f35c14ae9c7e\">\n",
              "    <div class=\"colab-df-container\">\n",
              "      <div>\n",
              "<style scoped>\n",
              "    .dataframe tbody tr th:only-of-type {\n",
              "        vertical-align: middle;\n",
              "    }\n",
              "\n",
              "    .dataframe tbody tr th {\n",
              "        vertical-align: top;\n",
              "    }\n",
              "\n",
              "    .dataframe thead th {\n",
              "        text-align: right;\n",
              "    }\n",
              "</style>\n",
              "<table border=\"1\" class=\"dataframe\">\n",
              "  <thead>\n",
              "    <tr style=\"text-align: right;\">\n",
              "      <th></th>\n",
              "      <th>text</th>\n",
              "      <th>adversarial</th>\n",
              "    </tr>\n",
              "  </thead>\n",
              "  <tbody>\n",
              "    <tr>\n",
              "      <th>3098</th>\n",
              "      <td>So, I'm wondering while watching this film, di...</td>\n",
              "      <td>1</td>\n",
              "    </tr>\n",
              "    <tr>\n",
              "      <th>288</th>\n",
              "      <td>Although not a big Coen brothers fan, me am an...</td>\n",
              "      <td>1</td>\n",
              "    </tr>\n",
              "    <tr>\n",
              "      <th>1686</th>\n",
              "      <td>me am in a theatres nightclubs at my pupil and...</td>\n",
              "      <td>1</td>\n",
              "    </tr>\n",
              "    <tr>\n",
              "      <th>5350</th>\n",
              "      <td>The Thirdly Stooges enjoys always been some of...</td>\n",
              "      <td>1</td>\n",
              "    </tr>\n",
              "    <tr>\n",
              "      <th>8615</th>\n",
              "      <td>(Possible ?? spoilers included, but nothing cr...</td>\n",
              "      <td>1</td>\n",
              "    </tr>\n",
              "    <tr>\n",
              "      <th>...</th>\n",
              "      <td>...</td>\n",
              "      <td>...</td>\n",
              "    </tr>\n",
              "    <tr>\n",
              "      <th>7552</th>\n",
              "      <td>When Melville's \"Pierre; or The Ambiguities\" h...</td>\n",
              "      <td>0</td>\n",
              "    </tr>\n",
              "    <tr>\n",
              "      <th>634</th>\n",
              "      <td>This movie is funny if you're the gentleman wh...</td>\n",
              "      <td>0</td>\n",
              "    </tr>\n",
              "    <tr>\n",
              "      <th>3723</th>\n",
              "      <td>Snakes on a Train is a movie I rented due to t...</td>\n",
              "      <td>0</td>\n",
              "    </tr>\n",
              "    <tr>\n",
              "      <th>7751</th>\n",
              "      <td>Should we take the opening shot as a strange f...</td>\n",
              "      <td>0</td>\n",
              "    </tr>\n",
              "    <tr>\n",
              "      <th>2606</th>\n",
              "      <td>A friend and I went to see this movie. We have...</td>\n",
              "      <td>0</td>\n",
              "    </tr>\n",
              "  </tbody>\n",
              "</table>\n",
              "<p>10000 rows × 2 columns</p>\n",
              "</div>\n",
              "      <button class=\"colab-df-convert\" onclick=\"convertToInteractive('df-92953d87-5288-476e-9c21-f35c14ae9c7e')\"\n",
              "              title=\"Convert this dataframe to an interactive table.\"\n",
              "              style=\"display:none;\">\n",
              "        \n",
              "  <svg xmlns=\"http://www.w3.org/2000/svg\" height=\"24px\"viewBox=\"0 0 24 24\"\n",
              "       width=\"24px\">\n",
              "    <path d=\"M0 0h24v24H0V0z\" fill=\"none\"/>\n",
              "    <path d=\"M18.56 5.44l.94 2.06.94-2.06 2.06-.94-2.06-.94-.94-2.06-.94 2.06-2.06.94zm-11 1L8.5 8.5l.94-2.06 2.06-.94-2.06-.94L8.5 2.5l-.94 2.06-2.06.94zm10 10l.94 2.06.94-2.06 2.06-.94-2.06-.94-.94-2.06-.94 2.06-2.06.94z\"/><path d=\"M17.41 7.96l-1.37-1.37c-.4-.4-.92-.59-1.43-.59-.52 0-1.04.2-1.43.59L10.3 9.45l-7.72 7.72c-.78.78-.78 2.05 0 2.83L4 21.41c.39.39.9.59 1.41.59.51 0 1.02-.2 1.41-.59l7.78-7.78 2.81-2.81c.8-.78.8-2.07 0-2.86zM5.41 20L4 18.59l7.72-7.72 1.47 1.35L5.41 20z\"/>\n",
              "  </svg>\n",
              "      </button>\n",
              "      \n",
              "  <style>\n",
              "    .colab-df-container {\n",
              "      display:flex;\n",
              "      flex-wrap:wrap;\n",
              "      gap: 12px;\n",
              "    }\n",
              "\n",
              "    .colab-df-convert {\n",
              "      background-color: #E8F0FE;\n",
              "      border: none;\n",
              "      border-radius: 50%;\n",
              "      cursor: pointer;\n",
              "      display: none;\n",
              "      fill: #1967D2;\n",
              "      height: 32px;\n",
              "      padding: 0 0 0 0;\n",
              "      width: 32px;\n",
              "    }\n",
              "\n",
              "    .colab-df-convert:hover {\n",
              "      background-color: #E2EBFA;\n",
              "      box-shadow: 0px 1px 2px rgba(60, 64, 67, 0.3), 0px 1px 3px 1px rgba(60, 64, 67, 0.15);\n",
              "      fill: #174EA6;\n",
              "    }\n",
              "\n",
              "    [theme=dark] .colab-df-convert {\n",
              "      background-color: #3B4455;\n",
              "      fill: #D2E3FC;\n",
              "    }\n",
              "\n",
              "    [theme=dark] .colab-df-convert:hover {\n",
              "      background-color: #434B5C;\n",
              "      box-shadow: 0px 1px 3px 1px rgba(0, 0, 0, 0.15);\n",
              "      filter: drop-shadow(0px 1px 2px rgba(0, 0, 0, 0.3));\n",
              "      fill: #FFFFFF;\n",
              "    }\n",
              "  </style>\n",
              "\n",
              "      <script>\n",
              "        const buttonEl =\n",
              "          document.querySelector('#df-92953d87-5288-476e-9c21-f35c14ae9c7e button.colab-df-convert');\n",
              "        buttonEl.style.display =\n",
              "          google.colab.kernel.accessAllowed ? 'block' : 'none';\n",
              "\n",
              "        async function convertToInteractive(key) {\n",
              "          const element = document.querySelector('#df-92953d87-5288-476e-9c21-f35c14ae9c7e');\n",
              "          const dataTable =\n",
              "            await google.colab.kernel.invokeFunction('convertToInteractive',\n",
              "                                                     [key], {});\n",
              "          if (!dataTable) return;\n",
              "\n",
              "          const docLinkHtml = 'Like what you see? Visit the ' +\n",
              "            '<a target=\"_blank\" href=https://colab.research.google.com/notebooks/data_table.ipynb>data table notebook</a>'\n",
              "            + ' to learn more about interactive tables.';\n",
              "          element.innerHTML = '';\n",
              "          dataTable['output_type'] = 'display_data';\n",
              "          await google.colab.output.renderOutput(dataTable, element);\n",
              "          const docLink = document.createElement('div');\n",
              "          docLink.innerHTML = docLinkHtml;\n",
              "          element.appendChild(docLink);\n",
              "        }\n",
              "      </script>\n",
              "    </div>\n",
              "  </div>\n",
              "  "
            ]
          },
          "metadata": {},
          "execution_count": 6
        }
      ]
    },
    {
      "cell_type": "code",
      "execution_count": 7,
      "metadata": {
        "colab": {
          "base_uri": "https://localhost:8080/"
        },
        "id": "ELNqyYO6ZeEq",
        "outputId": "01f3d182-c9a0-4f4f-ed4c-aeecb2c57940"
      },
      "outputs": [
        {
          "output_type": "stream",
          "name": "stderr",
          "text": [
            "Some weights of the model checkpoint at textattack/bert-base-uncased-imdb were not used when initializing BertModel: ['classifier.weight', 'classifier.bias']\n",
            "- This IS expected if you are initializing BertModel from the checkpoint of a model trained on another task or with another architecture (e.g. initializing a BertForSequenceClassification model from a BertForPreTraining model).\n",
            "- This IS NOT expected if you are initializing BertModel from the checkpoint of a model that you expect to be exactly identical (initializing a BertForSequenceClassification model from a BertForSequenceClassification model).\n"
          ]
        }
      ],
      "source": [
        "from transformers import BertModel, BertTokenizer\n",
        "\n",
        "model_name = 'textattack/bert-base-uncased-imdb'\n",
        "tokenizer = BertTokenizer.from_pretrained(model_name)\n",
        "model = BertModel.from_pretrained(model_name)"
      ]
    },
    {
      "cell_type": "code",
      "source": [
        "from embeddings import get_embeddings\n",
        "import torch"
      ],
      "metadata": {
        "id": "I0zlywRM3JmY"
      },
      "execution_count": 8,
      "outputs": []
    },
    {
      "cell_type": "code",
      "source": [
        "# Check if you can access to GPU:\n",
        "torch.cuda.is_available()"
      ],
      "metadata": {
        "id": "RWIVTkPqhHJ4",
        "colab": {
          "base_uri": "https://localhost:8080/"
        },
        "outputId": "5a67e279-1049-4e76-ae80-e00de3ef5c93"
      },
      "execution_count": 9,
      "outputs": [
        {
          "output_type": "execute_result",
          "data": {
            "text/plain": [
              "True"
            ]
          },
          "metadata": {},
          "execution_count": 9
        }
      ]
    },
    {
      "cell_type": "code",
      "source": [
        "device = torch.device(\"cuda:0\" if torch.cuda.is_available() else \"cpu\")"
      ],
      "metadata": {
        "id": "UWZFYLIMVJq_"
      },
      "execution_count": 10,
      "outputs": []
    },
    {
      "cell_type": "code",
      "source": [
        "train_matrix = get_embeddings(text_train, model.cuda(), tokenizer, device)\n",
        "train_matrix.shape"
      ],
      "metadata": {
        "id": "dyJ_7slm4QIW",
        "colab": {
          "base_uri": "https://localhost:8080/"
        },
        "outputId": "0757084a-6764-4376-ed4b-341ab248f7f9"
      },
      "execution_count": 11,
      "outputs": [
        {
          "output_type": "execute_result",
          "data": {
            "text/plain": [
              "(8000, 768)"
            ]
          },
          "metadata": {},
          "execution_count": 11
        }
      ]
    },
    {
      "cell_type": "code",
      "source": [
        "test_matrix = get_embeddings(df_test['text'], model.cuda(), tokenizer, device)\n",
        "test_matrix.shape"
      ],
      "metadata": {
        "id": "gGNcCtKE52fI",
        "colab": {
          "base_uri": "https://localhost:8080/"
        },
        "outputId": "e2bc5bcc-5630-4a26-89b3-8b379eff2a77"
      },
      "execution_count": 12,
      "outputs": [
        {
          "output_type": "execute_result",
          "data": {
            "text/plain": [
              "(10000, 768)"
            ]
          },
          "metadata": {},
          "execution_count": 12
        }
      ]
    },
    {
      "cell_type": "code",
      "source": [
        "import numpy as np\n",
        "np.save(\"pickle/imdb_bert_train_emb.pickle\", train_matrix)\n",
        "np.save(\"pickle/imdb_bert_test_textfooler_emb.pickle\", test_matrix)"
      ],
      "metadata": {
        "id": "Mx5jnlg1bvPy"
      },
      "execution_count": 14,
      "outputs": []
    }
  ]
}